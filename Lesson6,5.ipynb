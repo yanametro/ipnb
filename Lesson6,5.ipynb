{
 "cells": [
  {
   "cell_type": "markdown",
   "metadata": {},
   "source": [
    "# Selenium"
   ]
  },
  {
   "cell_type": "code",
   "execution_count": null,
   "metadata": {
    "collapsed": false
   },
   "outputs": [],
   "source": [
    "from selenium import webdriver\n",
    "import re\n",
    "from time import sleep\n",
    "from skimage import io\n",
    "\n",
    "driver = webdriver.Safari()"
   ]
  },
  {
   "cell_type": "code",
   "execution_count": null,
   "metadata": {
    "collapsed": false
   },
   "outputs": [],
   "source": [
    "!mkdir clubs"
   ]
  },
  {
   "cell_type": "code",
   "execution_count": 7,
   "metadata": {
    "collapsed": false
   },
   "outputs": [],
   "source": [
    "driver.get('http://www.myscore.ru/football/spain/laliga/results/')\n",
    "html = driver.page_source\n",
    "match_urls = re.findall(r'g_1_(\\w{8})', html)"
   ]
  },
  {
   "cell_type": "code",
   "execution_count": 8,
   "metadata": {
    "collapsed": false
   },
   "outputs": [
    {
     "data": {
      "text/plain": [
       "[u'UssyZhkO',\n",
       " u'roouYC4U',\n",
       " u'nJiWZYZH',\n",
       " u'8ShSzFKB',\n",
       " u'vglOye55',\n",
       " u'KhsCvcLn',\n",
       " u'02kKxyja',\n",
       " u'Iw0FwHzg',\n",
       " u'QVs8uw6t',\n",
       " u'OMetpJcP',\n",
       " u'hINURJys',\n",
       " u'W8MYQwim',\n",
       " u'YXtbXuEJ',\n",
       " u'n5CcLZKO',\n",
       " u'vZLxQc6g',\n",
       " u'EiEkNejC',\n",
       " u'IPKtPHLa',\n",
       " u'0lAoOyy6',\n",
       " u'8EDgMF5I',\n",
       " u'nyo2WaTP',\n",
       " u'Mw3Ls8F5',\n",
       " u'jk1aCvxf',\n",
       " u'vFceDKMm',\n",
       " u'Q7HKJMqK',\n",
       " u'O2a7AI66',\n",
       " u'tvfC9xMC',\n",
       " u'KUhG8dyJ',\n",
       " u'nHIGK2UD',\n",
       " u'fsMOItaQ',\n",
       " u'pC03Bbi0',\n",
       " u'dj8jE07s',\n",
       " u'WY5Pa1hl',\n",
       " u'W8zUdax7',\n",
       " u'bexMbL7f',\n",
       " u'4KkqKVw3',\n",
       " u'xEccdSod',\n",
       " u'pCvYeJiD',\n",
       " u'QTjuLBOd',\n",
       " u'xnyQcuN0',\n",
       " u'0nqhI98F',\n",
       " u'nqulJkg9',\n",
       " u'40Nc8Yvi',\n",
       " u'8hKE4jvG',\n",
       " u'bNbgc8Wk',\n",
       " u'Gb9lblHq',\n",
       " u'0SdHatyi',\n",
       " u'CQQ56C93',\n",
       " u't6IM2U8S',\n",
       " u'jHP95WO9',\n",
       " u'nqJI3AgM',\n",
       " u'I3R17hfc',\n",
       " u'0jXz9jDB',\n",
       " u'rNKQ9Qbb',\n",
       " u'jgBo52DT',\n",
       " u'Yiwzm3io',\n",
       " u'UwNx7OrH',\n",
       " u'QoQLA6qh',\n",
       " u'MDJU8pE4',\n",
       " u'C2Cs6rbN',\n",
       " u'neRHBnUo',\n",
       " u'MybD0MLp',\n",
       " u'GzJY74TA',\n",
       " u'0pjmd7Ub',\n",
       " u'ClX8iqqU',\n",
       " u'nsnqcmFh',\n",
       " u'UPs4hPTN',\n",
       " u'hKnubTan',\n",
       " u'jJfxvQEU',\n",
       " u'MavdfoaB',\n",
       " u'jZr0g5EH',\n",
       " u'r9uheRq5',\n",
       " u'ETmya9pt',\n",
       " u'EDaDqUpg',\n",
       " u'rkqy3IoE',\n",
       " u'I5dUunpI',\n",
       " u'zN09pAVn',\n",
       " u'rm4Hrl0a',\n",
       " u'CSeYv6aO',\n",
       " u'42hQtSUB',\n",
       " u'hbB4ojGt',\n",
       " u'tMM5mwnR',\n",
       " u'SbWBReP7',\n",
       " u'fT2tsyPf',\n",
       " u'8f9bkaHE',\n",
       " u'063xrH9l',\n",
       " u'jedkuFg7',\n",
       " u'n3aYrcfr',\n",
       " u'YJ1ptev1',\n",
       " u'2VN1lJWK',\n",
       " u'U3Afju28',\n",
       " u'G0pLytmF',\n",
       " u'YyeGxMX8',\n",
       " u'EeS7SyA1',\n",
       " u'fodCw2I2',\n",
       " u'trUaUcuk',\n",
       " u'McmTZJHR',\n",
       " u'6V2UEIu2',\n",
       " u'KYS3THfe',\n",
       " u'O6ZfVwQr',\n",
       " u'SzlPz02L',\n",
       " u'Sv4QFbQe',\n",
       " u'pGELGvBk',\n",
       " u'WCAHHKeq',\n",
       " u'Gv9pP239',\n",
       " u'69Rg2udd',\n",
       " u'EXNkM0mS']"
      ]
     },
     "execution_count": 8,
     "metadata": {},
     "output_type": "execute_result"
    }
   ],
   "source": [
    "match_urls"
   ]
  },
  {
   "cell_type": "code",
   "execution_count": null,
   "metadata": {
    "collapsed": false
   },
   "outputs": [],
   "source": [
    "from \n",
    "\n",
    "images = set()\n",
    "\n",
    "for match_url in match_urls:\n",
    "    driver.get('http://myscore.ru/match/{}'.format(match_url))\n",
    "    html = driver.page_source\n",
    "    l = re.findall(r'<td class=\"tlogo-home\">[\\s\\S]*?src=\"([\\s\\S]*?)\"[\\s\\S]*?alt=\"([\\s\\S]*?)\"[\\s\\S]*?</td>', html)\n",
    "    img_src, name = l[0]\n",
    "    print img_src, name\n",
    "    if name not in images:\n",
    "        images.add(name)\n",
    "        img = io.imread('http://myscore.ru{}'.format(img_src))\n",
    "        io.imsave(u'clubs/{}.png'.format(name), img)"
   ]
  }
 ],
 "metadata": {
  "kernelspec": {
   "display_name": "Python 2",
   "language": "python",
   "name": "python2"
  },
  "language_info": {
   "codemirror_mode": {
    "name": "ipython",
    "version": 2
   },
   "file_extension": ".py",
   "mimetype": "text/x-python",
   "name": "python",
   "nbconvert_exporter": "python",
   "pygments_lexer": "ipython2",
   "version": "2.7.12"
  }
 },
 "nbformat": 4,
 "nbformat_minor": 1
}
