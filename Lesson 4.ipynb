{
 "cells": [
  {
   "cell_type": "code",
   "execution_count": 147,
   "metadata": {
    "collapsed": true
   },
   "outputs": [],
   "source": [
    "%matplotlib inline"
   ]
  },
  {
   "cell_type": "markdown",
   "metadata": {},
   "source": [
    "#4. Работа с текстами и интернетом "
   ]
  },
  {
   "cell_type": "markdown",
   "metadata": {},
   "source": [
    "#4.1 Форматирование строк"
   ]
  },
  {
   "cell_type": "markdown",
   "metadata": {
    "collapsed": false
   },
   "source": [
    "Есть способ, похожий на printf/scanf из C."
   ]
  },
  {
   "cell_type": "code",
   "execution_count": 149,
   "metadata": {
    "collapsed": false
   },
   "outputs": [
    {
     "data": {
      "text/plain": [
       "'James Bond, agent 007'"
      ]
     },
     "execution_count": 149,
     "metadata": {},
     "output_type": "execute_result"
    }
   ],
   "source": [
    "\"%s %s, %s %03d\" % ('James', 'Bond', 'agent', 7)"
   ]
  },
  {
   "cell_type": "markdown",
   "metadata": {
    "collapsed": false
   },
   "source": [
    "Второй способ -- с помощью команды format."
   ]
  },
  {
   "cell_type": "code",
   "execution_count": 151,
   "metadata": {
    "collapsed": false
   },
   "outputs": [
    {
     "data": {
      "text/plain": [
       "'GTA 5'"
      ]
     },
     "execution_count": 151,
     "metadata": {},
     "output_type": "execute_result"
    }
   ],
   "source": [
    "\"{0} {1}\".format('GTA', 5)"
   ]
  },
  {
   "cell_type": "markdown",
   "metadata": {
    "collapsed": false
   },
   "source": [
    "Также можно вместо номеров использовать именованные аргументы"
   ]
  },
  {
   "cell_type": "code",
   "execution_count": 153,
   "metadata": {
    "collapsed": false
   },
   "outputs": [
    {
     "data": {
      "text/plain": [
       "'GTA 5'"
      ]
     },
     "execution_count": 153,
     "metadata": {},
     "output_type": "execute_result"
    }
   ],
   "source": [
    "\"{game} {part}\".format(game='GTA', part=5)"
   ]
  },
  {
   "cell_type": "markdown",
   "metadata": {},
   "source": [
    "##4.1 Str, unicode и кодировки"
   ]
  },
  {
   "cell_type": "markdown",
   "metadata": {
    "collapsed": false
   },
   "source": [
    "Под кодировкой мы будет понимать пару алгоритмов \n",
    "1) преобразования символов в байты -- алгоритм кодирования\n",
    "и\n",
    "2) преобразования байтов в символы -- алгоритм декодирования"
   ]
  },
  {
   "cell_type": "markdown",
   "metadata": {
    "collapsed": false
   },
   "source": [
    "Кодировка, с которой мы с вами уже работали, это ASCII"
   ]
  },
  {
   "cell_type": "code",
   "execution_count": 161,
   "metadata": {
    "collapsed": false
   },
   "outputs": [
    {
     "data": {
      "text/plain": [
       "<matplotlib.image.AxesImage at 0x11732d590>"
      ]
     },
     "execution_count": 161,
     "metadata": {},
     "output_type": "execute_result"
    },
    {
     "data": {
      "image/png": "[encoded data removed]",
      "text/plain": [
       "<matplotlib.figure.Figure at 0x11703a290>"
      ]
     },
     "metadata": {},
     "output_type": "display_data"
    }
   ],
   "source": [
    "from skimage import io\n",
    "img = io.imread('https://upload.wikimedia.org/wikipedia/commons/thumb/4/4f/ASCII_Code_Chart.svg/830px-ASCII_Code_Chart.svg.png')\n",
    "io.imshow(img)"
   ]
  },
  {
   "cell_type": "markdown",
   "metadata": {
    "collapsed": false
   },
   "source": [
    "Еще одна кодировка, которая нам будет нужна -- это utf-8. В ней каждый символ занимает от 1 до 4-х байтов.\n",
    "На символах ASCII байтовое представление совпадает с представлением utf-8."
   ]
  },
  {
   "cell_type": "markdown",
   "metadata": {
    "collapsed": false
   },
   "source": [
    "Итак, во втором питоне str -- это не последовательность символов, а последовательность байт.\n",
    "Разницу легко понять на следующем примере."
   ]
  },
  {
   "cell_type": "code",
   "execution_count": 158,
   "metadata": {
    "collapsed": false
   },
   "outputs": [
    {
     "data": {
      "text/plain": [
       "'\\xd0\\xbf\\xd1\\x80\\xd0\\xb8\\xd0\\xb2\\xd0\\xb5\\xd1\\x82'"
      ]
     },
     "execution_count": 158,
     "metadata": {},
     "output_type": "execute_result"
    }
   ],
   "source": [
    "s = 'привет'\n",
    "s"
   ]
  },
  {
   "cell_type": "markdown",
   "metadata": {
    "collapsed": false
   },
   "source": [
    "Как видно, символов здесь 6, а байт 12"
   ]
  },
  {
   "cell_type": "code",
   "execution_count": 188,
   "metadata": {
    "collapsed": false
   },
   "outputs": [
    {
     "data": {
      "text/plain": [
       "'A'"
      ]
     },
     "execution_count": 188,
     "metadata": {},
     "output_type": "execute_result"
    }
   ],
   "source": [
    "s = '\\x41'\n",
    "s"
   ]
  },
  {
   "cell_type": "code",
   "execution_count": 189,
   "metadata": {
    "collapsed": false
   },
   "outputs": [
    {
     "data": {
      "text/plain": [
       "'\\n'"
      ]
     },
     "execution_count": 189,
     "metadata": {},
     "output_type": "execute_result"
    }
   ],
   "source": [
    "s = '\\x0A'\n",
    "s"
   ]
  },
  {
   "cell_type": "code",
   "execution_count": 190,
   "metadata": {
    "collapsed": false
   },
   "outputs": [
    {
     "data": {
      "text/plain": [
       "'\\xff'"
      ]
     },
     "execution_count": 190,
     "metadata": {},
     "output_type": "execute_result"
    }
   ],
   "source": [
    "s = '\\xFF'\n",
    "s"
   ]
  },
  {
   "cell_type": "code",
   "execution_count": 193,
   "metadata": {
    "collapsed": false
   },
   "outputs": [
    {
     "data": {
      "text/plain": [
       "'\\xf0 \\xd5b4'"
      ]
     },
     "execution_count": 193,
     "metadata": {},
     "output_type": "execute_result"
    }
   ],
   "source": [
    "'\\xf0\\x20\\xd5\\x62\\x34'"
   ]
  },
  {
   "cell_type": "markdown",
   "metadata": {
    "collapsed": false
   },
   "source": [
    "unicode -- последовательность символов"
   ]
  },
  {
   "cell_type": "code",
   "execution_count": 17,
   "metadata": {
    "collapsed": false
   },
   "outputs": [
    {
     "data": {
      "text/plain": [
       "u'\\u041a\\u043e\\u043d\\u044c b1 a3'"
      ]
     },
     "execution_count": 17,
     "metadata": {},
     "output_type": "execute_result"
    }
   ],
   "source": [
    "u'Конь b1 a3'"
   ]
  },
  {
   "cell_type": "code",
   "execution_count": 211,
   "metadata": {
    "collapsed": false
   },
   "outputs": [
    {
     "data": {
      "text/plain": [
       "u'\\u043f\\u0440\\u0438\\u0432\\u0435\\u0442'"
      ]
     },
     "execution_count": 211,
     "metadata": {},
     "output_type": "execute_result"
    }
   ],
   "source": [
    "u'привет'"
   ]
  },
  {
   "cell_type": "code",
   "execution_count": 217,
   "metadata": {
    "collapsed": false
   },
   "outputs": [
    {
     "data": {
      "text/plain": [
       "u'\\U0001f438'"
      ]
     },
     "execution_count": 217,
     "metadata": {},
     "output_type": "execute_result"
    }
   ],
   "source": [
    "u'🐸'"
   ]
  },
  {
   "cell_type": "markdown",
   "metadata": {
    "collapsed": false
   },
   "source": [
    "Для перехода между str и unicode используются encode и decode"
   ]
  },
  {
   "cell_type": "code",
   "execution_count": 214,
   "metadata": {
    "collapsed": false
   },
   "outputs": [
    {
     "data": {
      "text/plain": [
       "'\\xd0\\xbf\\xd1\\x80\\xd0\\xbe\\xd0\\xb6\\xd0\\xb5\\xd0\\xba\\xd1\\x82\\xd0\\xbe\\xd1\\x80\\xd0\\xbf\\xd1\\x8d\\xd1\\x80\\xd0\\xb8\\xd1\\x81\\xd1\\x85\\xd0\\xb8\\xd0\\xbb\\xd1\\x82\\xd0\\xbe\\xd0\\xbd'"
      ]
     },
     "execution_count": 214,
     "metadata": {},
     "output_type": "execute_result"
    }
   ],
   "source": [
    "u = u'прожекторпэрисхилтон'\n",
    "s = u.encode('utf-8')\n",
    "s"
   ]
  },
  {
   "cell_type": "code",
   "execution_count": 216,
   "metadata": {
    "collapsed": false
   },
   "outputs": [
    {
     "data": {
      "text/plain": [
       "u'\\u043f\\u0440\\u043e\\u0436\\u0435\\u043a\\u0442\\u043e\\u0440\\u043f\\u044d\\u0440\\u0438\\u0441\\u0445\\u0438\\u043b\\u0442\\u043e\\u043d'"
      ]
     },
     "execution_count": 216,
     "metadata": {},
     "output_type": "execute_result"
    }
   ],
   "source": [
    "u_other = s.decode('utf-8')\n",
    "u_other"
   ]
  },
  {
   "cell_type": "markdown",
   "metadata": {
    "collapsed": true
   },
   "source": [
    "Совет для работы с файлами в разных кодировках"
   ]
  },
  {
   "cell_type": "code",
   "execution_count": null,
   "metadata": {
    "collapsed": true
   },
   "outputs": [],
   "source": [
    "with open('input.txt') as f:\n",
    "    bytes = f.read()\n",
    "text = bytes.decode('utf-8')\n",
    "\n",
    "...\n",
    "\n",
    "bytes_out = text_out.encode('utf-8')\n",
    "with open('output.txt', 'w') as g:\n",
    "    g.write(bytes_out)"
   ]
  },
  {
   "cell_type": "markdown",
   "metadata": {
    "collapsed": true
   },
   "source": [
    "Чтобы редактор/интерпретатор понимал, в какой кодировке написан сам код\n",
    "первой строкой можно добавить, например, такую"
   ]
  },
  {
   "cell_type": "code",
   "execution_count": null,
   "metadata": {
    "collapsed": true
   },
   "outputs": [],
   "source": [
    "# -*- coding: utf-8 -*-"
   ]
  },
  {
   "cell_type": "markdown",
   "metadata": {},
   "source": [
    "#4.3 Работа с интернетом"
   ]
  },
  {
   "cell_type": "markdown",
   "metadata": {
    "collapsed": false
   },
   "source": [
    "Основными действиями для работы с интернетом для нас будут скачивание данных и анализ скачанных данных."
   ]
  },
  {
   "cell_type": "markdown",
   "metadata": {
    "collapsed": false
   },
   "source": [
    "Для закачки страниц будем использовать urlopen"
   ]
  },
  {
   "cell_type": "code",
   "execution_count": 1,
   "metadata": {
    "collapsed": true
   },
   "outputs": [],
   "source": [
    "from urllib2 import urlopen"
   ]
  },
  {
   "cell_type": "code",
   "execution_count": 3,
   "metadata": {
    "collapsed": false,
    "scrolled": false
   },
   "outputs": [
    {
     "name": "stdout",
     "output_type": "stream",
     "text": [
      "<!DOCTYPE html><html class=\"i-ua_js_no i-ua_css_standart i-ua_browser_\" lang=\"ru\"><head xmlns:og=\"http://ogp.me/ns#\"><meta http-equiv=\"X-UA-Compatible\" content=\"IE=edge\"><title>Яндекс</title><meta http-equiv=Content-Type content=\"text/html;charset=UTF-8\"><link rel=\"apple-touch-icon\" href=\"//yastatic.net/morda-logo/i/apple-touch-icon/ru-76x76.png\" sizes=\"76x76\"><link rel=\"apple-touch-icon\" href=\"//yastatic.net/morda-logo/i/apple-touch-icon/ru-120x120.png\" sizes=\"120x120\"><link rel=\"apple-touch-icon\" href=\"//yastatic.net/morda-logo/i/apple-touch-icon/ru-152x152.png\" sizes=\"152x152\"><link rel=\"apple-touch-icon\" href=\"//yastatic.net/morda-logo/i/apple-touch-icon/ru-180x180.png\" sizes=\"180x180\"><link rel=\"alternate\" type=\"application/rss+xml\" title=\"Новости Яндекса\" href=\"//company.yandex.ru/news/news.rss\"><link rel=\"alternate\" type=\"application/rss+xml\" title=\"Блог Яндекса\" href=\"//company.yandex.ru/blog/index.rss\"><link rel=\"search\" href=\"//yandex.ru/opensearch.xml\" title=\"Яндекс\" type=\"application/opensearchdescription+xml\"><link rel=\"shortcut icon\" href=\"//yastatic.net/morda-logo/i/favicon_islands.ico\"><meta property=\"og:title\" content=\"Яндекс\"><meta property=\"og:image\" content=\"https://yastatic.net/morda-logo/i/share-logo-ru.png\"><meta property=\"og:description\" content=\"Найдётся всё\"><meta property=\"og:url\" content=\"https://www.yandex.ru\"><meta property=\"og:type\" content=\"website\"><meta property=\"og:site_name\" content=\"Яндекс\"><meta property=\"og:locale\" content=\"ru_RU\"><meta property=\"og:locale:alternate\" content=\"be_BY\"><meta property=\"og:locale:alternate\" content=\"kk_KZ\"><meta property=\"og:locale:alternate\" content=\"tt_RU\"><meta property=\"og:locale:alternate\" content=\"uk_UA\"><meta name=\"yamm\" content=\"p\"><script>function Detector(){\"use strict\";var e=\"detector\",t=document.documentElement;return{isPlaceholderSupported:function(){return\"placeholder\"in document.createElement(\"input\")},getCSS3TransformProperty:function(){for(var e=document.documentElement.style,t=[\"transform\",\"MozTransform\",\"MsTransform\",\"msTransform\",\"WebkitTransform\",\"OTransform\"],n=\"\",i=0,r=t.length;r>i;++i)if(void 0!==e[t[i]]){n=t[i];break}return this.getCSS3TransformProperty=function(){return n},n},checkDataURLSupport:function(e){var t=new Image;t.onload=t.onerror=function(){e(1===this.width&&1===this.height)},t.src=\"data:image/gif;base64,R0lGODlhAQABAIAAAAAAAP///ywAAAAAAQABAAACAUwAOw==\"},isActivexEnabled:function(){var e=!1;try{e=!!new window.ActiveXObject(\"htmlfile\")}catch(t){e=!1}return e},isWin64:function(){return window.navigator&&\"Win64\"===window.navigator.platform},isFullScreen:function(){return window.innerWidth&&window.screen&&window.screen.width&&window.screen.height&&window.innerHeight&&window.innerWidth===screen.width&&window.innerHeight===screen.height},isIEMetroMode:function(){return this.isFullScreen()&&this.isWin64()&&!this.isActivexEnabled()},isSVGSupported:function(){if(\"opera\"in window)return!1;var e=document.createElement(\"svg\");return e.innerHTML=\"<svg/>\",e.firstChild&&\"http://www.w3.org/2000/svg\"===e.firstChild.namespaceURI},injectElementWithStyles:function(n,i,r,o){var a,d,s,u,l=document.createElement(\"div\"),c=document.body,m=c||document.createElement(\"body\");if(parseInt(r,10))for(;r--;)s=document.createElement(\"div\"),s.id=o?o[r]:e+(r+1),l.appendChild(s);return a=[\"&#173;\",'<style id=\"s',e,'\">',n,\"</style>\"].join(\"\"),l.id=e,(c?l:m).innerHTML+=a,m.appendChild(l),c||(m.style.background=\"\",m.style.overflow=\"hidden\",u=t.style.overflow,t.style.overflow=\"hidden\",t.appendChild(m)),d=i(l,n),c?l.parentNode.removeChild(l):(m.parentNode.removeChild(m),t.style.overflow=u),!!d},isMQuerySupported:function(t){var n=window.matchMedia||window.msMatchMedia,i=!1;return n?i=n(t).matches:this.injectElementWithStyles(\"@media \"+t+\" { #\"+e+\" { position: absolute; } }\",function(e){i=\"absolute\"===(window.getComputedStyle?getComputedStyle(e,null):e.currentStyle).position}),i},isInlineBlockSupported:function(){var e,t=$('<span style=\"display:none\"><div style=\"width:100px;display:inline-block\"></div><div style=\"width:100px;display:inline-block\"></div></span>');return $(\"body\").append(t),e=t.width()>100,t.remove(),e},isTransparentPNGSupported:function(){var e=navigator.userAgent.match(/MSIE (\\d+)/);return e&&e[1]?(e=parseFloat(e[1]),\"Microsoft Internet Explorer\"!==navigator.appName||e>6):!0},isAnimationSupported:function(){if(\"opera\"in window)return!1;for(var e=document.documentElement.style,t=[\"animationName\",\"webkitAnimationName\"],n=0,i=t.length;i>n;n++)if(void 0!==e[t[n]])return!0}}}function MyMap(){this.rules={},this.rulesData=[]}MyMap.prototype={add:function(e){return e=e||null,e&&!this.rules[e]&&(this.rulesData.push(e),this.rules[e]=this.rulesData.length-1),this},get:function(e){var t=this.rules[e];return t&&this.rulesData[t]||null},getAll:function(){return this.rulesData.join(\" \")}};var detector=new Detector;!function(){var e,t=new MyMap;t.add(\"js\").add(\"i-ua_placeholder_\"+(detector.isPlaceholderSupported()?\"yes\":\"no\")).add(detector.isIEMetroMode()&&\"m-ie10-metro\").add(detector.isSVGSupported()?\"i-ua_inlinesvg_yes m-svg\":\"i-ua_inlinesvg_no no-data-url\").add(detector.isAnimationSupported()&&\"i-ua_animation_yes\").add(this.device&&\"m-touch\"),detector.checkDataURLSupport(function(e){e||(document.documentElement.className+=\" no-data-url\")}),this.document&&this.document.documentElement&&(e=this.document.documentElement,e.className=e.className.replace(\"i-ua_js_no\",\"i-ua_js_yes\")+\" \"+t.getAll())}();</script><link rel=\"stylesheet\" href=\"//yastatic.net/www/_/V/n/JrDFVJc59JO0ZZACTJWCpH8Ao.css\"></head><body class=\"tables not-logged b-page_domik_visible b-page_weather_snow i-ua i-ua_interaction_yes i-bem b-page_font_normal\" data-bem=\"{&quot;i-ua&quot;:{}}\"><div class=\"container rows\"><div class=\"row rows__row rows__row_first\"><div class=\"col\" role=\"complementary\"><div class=\"container headline\"><div class=\"row\"><div class=\"col headline__item headline__leftcorner\"><div class=\"b-sethome i-bem b-sethome_type_common\" data-bem=\"{&quot;b-sethome&quot;:{}}\"><span class=\"b-sethome__text\"><a href=\"//home.yandex.ru/?from=prov_main\" class=\"link b-sethome__link link_black_yes\">Сделать стартовой</a></span></div><a href=\"//tune.yandex.ru/region/?retpath=https%3A%2F%2Fwww.yandex.ru%2F%3Fdomredir%3D1\" class=\"link geolink link_gray_yes link_geosuggest_yes\"><div class=\"geolink__button b-ico-geoarrow geolink__button_size_s\"></div><span class=\"geolink__reg\">Москва</span></a></div><div class=\"col headline__item headline__center\"> </div><div class=\"col headline__item headline__bar\"><div class=\"container headline__bar_stuff\"><div class=\"row headline__bar-items\"><div class=\"col headline__bar-item head-options2\"><div class=\"dropdown-menu  dropdown i-bem\" data-bem=\"{&quot;dropdown-menu&quot;:{}}\"><a class=\"link  i-bem dropdown-menu__switcher head-options2__link link_black_yes  link_pseudo_yes\" href=\"//tune.yandex.ru\" onclick=\"return {'b-link':{}}\" role=\"button\" aria-expanded=\"false\" aria-haspopup=\"true\"><span class=\"link__inner\">Настройка</span></a><div class=\"i-bem popup dropdown-menu__popup b-menu-vert__layout dropdown-menu__popup_list_yes dropdown__popup popup_domik_trigger popup_head-options_yes popup_theme_ffffff popup_autoclosable_yes popup_adaptive_yes popup_animate_yes\" data-bem=\"{&quot;popup&quot;:{&quot;directions&quot;:&quot;bottom&quot;,&quot;disableoutside&quot;:&quot;yes&quot;}}\"><div class=\"popup__under\"></div><i class=\"popup__tail\"></i><div class=\"popup__content\"><div role=\"menuitem\"><a href=\"https://www.yandex.ru/themes\" class=\"link\" aria-label=\"Поставить тему\" target=\"_self\">Поставить тему</a></div><div role=\"menuitem\"><a href=\"https://www.yandex.ru/?edit=1\" class=\"link\" aria-label=\"Настроить Яндекс\" target=\"_self\">Настроить Яндекс</a></div><div class=\"b-menu__separator\"></div><div role=\"menuitem\"><a href=\"//tune.yandex.ru/region/?retpath=https%3A%2F%2Fwww.yandex.ru%2F%3Fdomredir%3D1\" class=\"link i-counter-toggler\" aria-label=\"Изменить город\" target=\"_self\">Изменить город</a></div><div role=\"menuitem\"><a href=\"//tune.yandex.ru/?retpath=https%3A%2F%2Fwww.yandex.ru%2F%3Fdomredir%3D1\" class=\"link\" aria-label=\"Другие настройки\" target=\"_self\">Другие настройки</a></div></div></div></div></div><div class=\"col headline__bar-item headline__domik\"><div class=\"domik2 domik2_expanded_yes domik2_logged_no i-bem\" data-bem=\"{&quot;domik2&quot;:{&quot;setOn&quot;:&quot;https://www.yandex.ru/y/?retdom=ru&amp;sk=ydf9c425dd54c69b57e4d3057f168a2a2&amp;empty=1&amp;mv=0&quot;,&quot;setOff&quot;:&quot;https://www.yandex.ru/y/?retdom=ru&amp;sk=ydf9c425dd54c69b57e4d3057f168a2a2&amp;empty=1&amp;mv=1&quot;,&quot;counters&quot;:{&quot;expand&quot;:&quot;&quot;,&quot;collapse&quot;:&quot;&quot;,&quot;socialExpand&quot;:&quot;&quot;},&quot;uid&quot;:&quot;undefined&quot;}}\"><a href=\"https://passport.yandex.ru/registration/mail?from=mail&origin=home_v14_ru&retpath=https%3A%2F%2Fmail.yandex.ru\" class=\"link link_black_yes domik2__mail-promo\">Завести почту</a><a href=\"https://mail.yandex.ru\" class=\"link domik2__link domik2__title link_black_yes\">Почта</a><div class=\"domik2__toggler domik2__toggler-arrow b-ico-arrow_down\"></div><div class=\"domik2__dropdown-wrapper domik2__dropdown-wrapper_clickable_yes\" role=\"form\" aria-label=\"Авторизация\"><h1 class=\"a11y-hidden\">Авторизация</h1><div class=\"domik2__dropdown\"><div class=\"domik2__slider\"><div class=\"domik2__slide domik2__slide_type_current domik2__slide_layout_login\"><form class=\"domik2__dropdown-login auth auth_hint_yes auth_serverside_yes i-bem\" method=\"POST\" action=\"https://passport.yandex.ru/passport?mode=auth&retpath=https://mail.yandex.ru\"  onclick=\"return {'auth':{}}\"><div class=\"domik2__dropdown-form domik2__dropdown-bg\"><div class=\"domik2__dropdown-form-wrapper\"><div class=\"domik2__dropdown-row\"><span class=\"input auth__username domik2__dropdown-input input_theme_bordergray input_size_xs input_auth_yes i-bem\" data-bem=\"{&quot;input&quot;:{}}\"><label for=\"uniq9893113404978067\" class=\"input__hint input__hint_fallback_yes\">Логин</label><span class=\"input__box\"><input class=\"input__control input__input\" placeholder=\"Логин\" spellcheck=\"false\" autocapitalize=\"none\" autocorrect=\"off\" tabindex=\"100\" id=\"uniq9893113404978067\" name=\"login\"/><span class=\"input__clear\" unselectable=\"on\">&nbsp;</span></span></span></div><div class=\"domik2__dropdown-row\"><span class=\"input auth__password domik2__dropdown-input input_theme_bordergray input_size_xs input_type_password input_toolbar_yes input_auth_yes input_side_left input_forgot_yes i-bem\" data-bem=\"{&quot;input&quot;:{}}\"><label for=\"uniq4769101548008621\" class=\"input__hint input__hint_fallback_yes\">Пароль</label><span class=\"input__box\"><input class=\"input__control input__input\" placeholder=\"Пароль\" tabindex=\"101\" id=\"uniq4769101548008621\" name=\"passwd\" type=\"password\"/><span class=\"input__clear\" unselectable=\"on\">&nbsp;</span><span class=\"input__forgot input__forgot_visible_yes\" unselectable=\"on\"><a class=\"button domik2__dropdown-forgot button_theme_bordergray button_size_xs button_side_right button_inline_yes i-bem\" data-bem=\"{&quot;button&quot;:{}}\" tabindex=\"107\" title=\"вспомнить пароль\" role=\"button\" href=\"https://passport.yandex.ru/passport?mode=restore\"><span class=\"button__text\">?</span></a></span></span></span></div><div class=\"domik2__dropdown-row domik2__dropdown-row_checkbox_yes\"><span class=\"i-bem checkbox checkbox_theme_bordergray checkbox_size_xxs\" onclick=\"return {'checkbox':{}}\"><span class=\"checkbox__box\"><input class=\"checkbox__control\" tabindex=\"102\" value=\"no\" type=\"checkbox\" name=\"twoweeks\" id=\"cbid803445835132\"><i class=\"checkbox__tick\"></i></span><label class=\"checkbox__label\" for=\"cbid803445835132\">Чужой компьютер</label></span></div><div class=\"domik2__dropdown-toggler domik2__toggler b-ico-arrow_up\"></div></div><div class=\"domik2__dropdown-row domik2__dropdown-row_toolbar_yes domik2__dropdown-row_last_yes\"><div class=\"domik2__social\"><span class=\"auth__social-link auth__social-icon b-ico b-ico-vk\" onclick=\"return {'auth__social-link':{&quot;provider&quot;:&quot;vk&quot;}}\" role=\"button\" tabindex=\"103\" title=\"ВКонтакте\" aria-label=\"ВКонтакте\"></span><span class=\"auth__social-link auth__social-icon b-ico b-ico-fb\" onclick=\"return {'auth__social-link':{&quot;provider&quot;:&quot;fb&quot;}}\" role=\"button\" tabindex=\"103\" title=\"Facebook\" aria-label=\"Facebook\"></span><span class=\"auth__social-link auth__social-icon b-ico b-ico-tw\" onclick=\"return {'auth__social-link':{&quot;provider&quot;:&quot;tw&quot;}}\" role=\"button\" tabindex=\"103\" title=\"Twitter\" aria-label=\"Twitter\"></span><span class=\"domik2__social-aux\"><span class=\"auth__social-link auth__social-icon b-ico b-ico-mr\" onclick=\"return {'auth__social-link':{&quot;provider&quot;:&quot;mr&quot;}}\" role=\"button\" tabindex=\"104\" title=\"Mail.ru\" aria-label=\"Mail.ru\"></span><span class=\"auth__social-link auth__social-icon b-ico b-ico-gg\" onclick=\"return {'auth__social-link':{&quot;provider&quot;:&quot;gg&quot;}}\" role=\"button\" tabindex=\"104\" title=\"Google\" aria-label=\"Google\"></span><span class=\"auth__social-link auth__social-icon b-ico b-ico-ok\" onclick=\"return {'auth__social-link':{&quot;provider&quot;:&quot;ok&quot;}}\" role=\"button\" tabindex=\"104\" title=\"Одноклассники\" aria-label=\"Одноклассники\"></span><span class=\"auth__social-link auth__social-icon b-ico b-ico-qr\" onclick=\"return {'auth__social-link':{&quot;url&quot;:&quot;https://passport.yandex.ru/auth?mode=qr&amp;retpath=https://mail.yandex.ru&quot;,&quot;provider&quot;:&quot;qr&quot;}}\" role=\"button\" tabindex=\"104\" title=\"Я.Ключ\" aria-label=\"Я.Ключ\"></span></span></div><div class=\"domik2__submit\"><span class=\"domik2__social-icon domik2__social-more b-ico b-ico-more\" aria-label=\"ещё\" title=\"ещё\" tabindex=\"103\"aria-checked=\"false\" role=\"checkbox\"></span><button class=\"button auth__button domik2__auth-button button_theme_bordergray button_size_m i-bem\" data-bem=\"{&quot;button&quot;:{}}\" tabindex=\"106\" role=\"button\" type=\"submit\"><span class=\"button__text\">Войти</span></button></div></div></div></form></div></div></div></div></div></div></div></div></div></div></div></div></div><div class=\"row gap gap_side_top\"> </div><div class=\"row rows__row rows__row_main\"><div class=\"col main widgets i-bem\" role=\"main\" data-bem=\"{&quot;widgets&quot;:{&quot;uniqId&quot;:&quot;widgets&quot;,&quot;yu&quot;:&quot;81f651cc34c9e283542c98b18a8823c57b8592b2ef85f9bc3a24c2c2f802c514:1453851372&quot;,&quot;Logged&quot;:0,&quot;domain&quot;:&quot;ru&quot;,&quot;locale&quot;:&quot;ru&quot;,&quot;layoutType&quot;:&quot;columns&quot;,&quot;hidePromo&quot;:0,&quot;geoid&quot;:&quot;213&quot;,&quot;statLogRoot&quot;:&quot;v14&quot;,&quot;settings&quot;:{},&quot;widgetStyle&quot;:{&quot;def&quot;:{&quot;bg&quot;:&quot;light&quot;,&quot;text&quot;:&quot;999&quot;,&quot;link&quot;:&quot;000&quot;,&quot;hover&quot;:&quot;ff0000&quot;,&quot;decor&quot;:&quot;1&quot;}},&quot;gsid&quot;:&quot;22889.31337.1453851372.95901&quot;}}\"><div class=\"container container__first container__line container_shrinkable_yes\"><div class=\"row first text_black_yes widgets__row widgets__row_tr_1\"><div class=\"col col_td_0 widgets__col widgets__col_td_1\"><div class=\"i-bem widget widget_mode_plain widgets__item b-widget-fixed\" data-bem=\"{&quot;widget&quot;:{&quot;id&quot;:&quot;_topnews&quot;}}\" id=\"wd-wrapper-_topnews\"><div id=\"wd-_topnews\" class=\"b-widget-data b-wrapper b-wrapper-\"><div class=\"news\" role=\"complementary\" aria-label=\"Новости\"><div class=\"news__header\"><div class=\"content-tabs i-bem\" data-bem=\"{&quot;content-tabs&quot;:{&quot;live&quot;:true}}\"><div class=\"content-tabs__head\" role=\"tablist\"><div class=\"content-tabs__head-item content-tabs__head-item_active_true\" id=\"tabnews_news\"><h1><a href=\"https://news.yandex.ru/?lang=ru\" class=\"link link_blue_yes content-tabs__link\" tabindex=\"0\" aria-selected=\"true\" aria-controls=\"tabnews_newsc\" role=\"tab\">Новости</a></h1></div><div class=\"content-tabs__head-item content-tabs__head-item_active_false\" id=\"tabnews_region\"><h1><a href=\"https://news.yandex.ru/Moscow\" class=\"link link_blue_yes content-tabs__link\" tabindex=\"-1\" aria-selected=\"false\" aria-controls=\"tabnews_regionc\" role=\"tab\">в Москве</a></h1></div><div class=\"content-tabs__appendix\"><span class=\"news__alarm\"><a href=\"https://news.yandex.ru/ruble.html\" class=\"link\">Ситуация на валютном рынке</a></span></div> <div class=\"content-tabs__appendix\"><span class=\"datetime datetime_short_yes text_gray_yes i-bem\" data-bem=\"{&quot;datetime&quot;:{&quot;timestamp&quot;:&quot;January 27, 2016, 02:36:12&quot;,&quot;short&quot;:true}}\" title=\"День воинской славы России: снятие Ленинградской блокады\"><span class=\"datetime__date\"><span class=\"datetime__day\">27 </span><span class=\"datetime__month\">янв., </span><span class=\"datetime__wday\">среда </span></span><span class=\"datetime__time\"><a href=\"https://time.yandex.ru\" class=\"link datetime__time-link link_gray_yes\"><span class=\"datetime__hour\">02</span><span class=\"datetime__flicker\">:</span><span class=\"datetime__min\">36</span></a></span></span></div></div><div class=\"content-tabs__items content-tabs__items_active_true\" role=\"tabpanel\" id=\"tabnews_newsc\" aria-labelledby=\"tabnews_news\" aria-hidden=\"false\"><ol class=\"list b-news-list\"><li class=\"list__item\"><a href=\"https://news.yandex.ru/yandsearch?cl4url=www.interfax.ru/moscow/491679&lang=ru&lr=213\" class=\"link list__item-content link_black_yes\" aria-label=\"Задержанный по подозрению в убийстве женщины в Москве признал вину\">Задержанный по подозрению в убийстве женщины в Москве признал вину</a></li><li class=\"list__item\"><a href=\"https://news.yandex.ru/yandsearch?cl4url=ria.ru/world/20160126/1365626807.html&lang=ru&lr=213\" class=\"link list__item-content link_black_yes\" aria-label=\"Стрелки часов «Судного дня» остались на прежнем месте\">Стрелки часов «Судного дня» остались на прежнем месте</a></li><li class=\"list__item\"><a href=\"https://news.yandex.ru/yandsearch?cl4url=www.interfax.ru/world/491662&lang=ru&lr=213\" class=\"link list__item-content link_black_yes\" aria-label=\"Глава Минобороны Израиля обвинил Турцию в покупке нефти у ИГ\">Глава Минобороны Израиля обвинил Турцию в покупке нефти у ИГ</a></li><li class=\"list__item\"><a href=\"https://news.yandex.ru/yandsearch?cl4url=www.gazeta.ru/social/news/2016/01/26/n_8170931.shtml&lang=ru&lr=213\" class=\"link list__item-content link_black_yes\" aria-label=\"В результате взрыва у торгового центра в Стокгольме никто не пострадал\">В результате взрыва у торгового центра в Стокгольме никто не пострадал</a></li><li class=\"list__item list__item_last\"><a href=\"https://news.yandex.ru/yandsearch?cl4url=tvzvezda.ru/news/vstrane_i_mire/content/201601262305-yphi.htm&lang=ru&lr=213\" class=\"link list__item-content link_black_yes\" aria-label=\"Звезда из «Крестного отца» Эйб Вигода скончался на 94 году жизни\">Звезда из «Крестного отца» Эйб Вигода скончался на 94 году жизни</a></li></ol></div><div class=\"content-tabs__items content-tabs__items_active_false\" role=\"tabpanel\" id=\"tabnews_regionc\" aria-labelledby=\"tabnews_region\" aria-hidden=\"true\"><ol class=\"list b-news-list\"><li class=\"list__item\"><a href=\"https://news.yandex.ru/yandsearch?cl4url=www.gazeta.ru/social/2016/01/26/8042483.shtml&lang=ru&lr=213\" class=\"link list__item-content link_black_yes\" aria-label=\"Мужчина застрелил 25-летнюю девушку из окна возле метро «Люблино»\">Мужчина застрелил 25-летнюю девушку из окна возле метро «Люблино»</a></li><li class=\"list__item\"><a href=\"https://news.yandex.ru/yandsearch?cl4url=www.tvc.ru/news/show/id/85316/&lang=ru&lr=213\" class=\"link list__item-content link_black_yes\" aria-label=\"Один человек погиб, четверо пострадали в массовом ДТП на МКАД\">Один человек погиб, четверо пострадали в массовом ДТП на МКАД</a></li><li class=\"list__item\"><a href=\"https://news.yandex.ru/yandsearch?cl4url=www.interfax.ru/moscow/491671&lang=ru&lr=213\" class=\"link list__item-content link_black_yes\" aria-label=\"Красную площадь перекрывали на 40 минут из-за большой очереди на каток\">Красную площадь перекрывали на 40 минут из-за большой очереди на каток</a></li><li class=\"list__item\"><a href=\"https://news.yandex.ru/yandsearch?cl4url=riafan.ru/498406-moskva-stala-finalistom-mirovoj-premii-za-razvitie-transporta&lang=ru&lr=213\" class=\"link list__item-content link_black_yes\" aria-label=\"Москва стала финалистом мировой премии за развитие транспорта\">Москва стала финалистом мировой премии за развитие транспорта</a></li><li class=\"list__item list__item_last\"><a href=\"https://news.yandex.ru/yandsearch?cl4url=echo.msk.ru/news/1701448-echo.html&lang=ru&lr=213\" class=\"link list__item-content link_black_yes\" aria-label=\"Георгий Мирский скончался сегодня утром от онкологического заболевания\">Георгий Мирский скончался сегодня утром от онкологического заболевания</a></li></ol></div></div></div ><div class=\"inline-stocks i-bem inline-stocks_new_yes\" aria-label=\"Котировки\" role=\"complementary\" data-bem=\"{&quot;inline-stocks&quot;:{&quot;stocksUrl&quot;:&quot;/data/combined/?w=_stocks-1&amp;bll=stocks&amp;sens=1&quot;,&quot;editShow&quot;:1}}\"><div class=\"inline-stocks__content text_black_yes\"><div class=\"b-inline inline-stocks__item inline-stocks__item_id_2002 hint__item\"><a href=\"https://news.yandex.ru/quotes/2002.html\" class=\"link link_black_yes inline-stocks__link\">USD ММВБ</a><span class=\"inline-stocks__value\"><span class=\"inline-stocks__text\"><span class=\"inline-stocks__item__baloon b-inline\"><i class=\"inline-stocks__item__baloon__tail-bd\"></i><i class=\"inline-stocks__item__baloon__tail\"></i><span class=\"inline-stocks__item__baloon_inner\">курс ММВБ на 26/01</span></span></span><span class=\"inline-stocks__value_inner\">78,37</span></span><span class=\"inline-stocks__cell inline-stocks__cell_type_delta inline-stocks__cell_delta_small text_gray_yes\" aria-hidden=\"true\">−1,67</span><div class=\"a11y-hidden inline-stocks__cell_type_delta-label\">-1,67</div></div><div class=\"b-inline inline-stocks__item inline-stocks__item_id_2000 hint__item\"><a href=\"https://news.yandex.ru/quotes/2000.html\" class=\"link link_black_yes inline-stocks__link\">EUR ММВБ</a><span class=\"inline-stocks__value\"><span class=\"inline-stocks__text\"><span class=\"inline-stocks__item__baloon b-inline\"><i class=\"inline-stocks__item__baloon__tail-bd\"></i><i class=\"inline-stocks__item__baloon__tail\"></i><span class=\"inline-stocks__item__baloon_inner\">курс ММВБ на 26/01</span></span></span><span class=\"inline-stocks__value_inner\">85,08</span></span><span class=\"inline-stocks__cell inline-stocks__cell_type_delta inline-stocks__cell_delta_small text_gray_yes\" aria-hidden=\"true\">−1,86</span><div class=\"a11y-hidden inline-stocks__cell_type_delta-label\">-1,86</div></div><div class=\"b-inline inline-stocks__nowrap\"><div class=\"b-inline inline-stocks__item inline-stocks__item_id_1006 hint__item\"><a href=\"https://news.yandex.ru/quotes/1006.html\" class=\"link link_black_yes inline-stocks__link\">Нефть</a><span class=\"inline-stocks__value\"><span class=\"inline-stocks__text\"><span class=\"inline-stocks__item__baloon b-inline\"><i class=\"inline-stocks__item__baloon__tail-bd\"></i><i class=\"inline-stocks__item__baloon__tail\"></i><span class=\"inline-stocks__item__baloon_inner\">цена на 27/01</span></span></span><span class=\"inline-stocks__value_inner\">31,09</span></span><span class=\"inline-stocks__cell inline-stocks__cell_type_delta inline-stocks__cell_delta_small text_gray_yes\" aria-hidden=\"true\">−1,61&#8202;&#8202;%</span><div class=\"a11y-hidden inline-stocks__cell_type_delta-label\">-1,61%</div></div><span class=\"link inline-stocks__more link_pseudo_yes\"title=\"ещё\" tabindex=\"0\" aria-haspopup=\"true\" aria-expanded=\"false\" role=\"button\"><img aria-hidden=\"true\" class=\"b-icon b-ico-more\" src=\"//yastatic.net/lego/_/La6qi18Z8LwgnZdsAr1qy1GwCwo.gif\"/><span class=\"link__inner\"></span></span></div><div class=\"inline-stocks__popup\"><h1 class=\"inline-stocks__title\">Котировки</h1><div class=\"inline-stocks__tables\"></div><div class=\"inline-stocks__error\">Данные недоступны</div><div class=\"inline-stocks__loader\"><div class=\"spin2 spin2_size_l spin2_progress_yes\"></div></div></div></div></div></div></div></div></div><div class=\"col col_td_1 widgets__col widgets__col_td_2\"><div class=\"i-bem widget widget_mode_plain widgets__item b-widget-fixed\" data-bem=\"{&quot;widget&quot;:{&quot;id&quot;:&quot;_teaser&quot;}}\" id=\"wd-wrapper-_teaser\"><div id=\"wd-_teaser\" class=\"b-widget-data b-wrapper b-wrapper-\"><div class=\"teaser\"><div class=\"teaser__content\" role=\"complementary\" aria-label=\"Реклама\"><a href=\"https://yabs.yandex.ru/count/35Y6MdT72Ri40000gQA0022El2w0QWLHbGAR1cbQYBhK8GS7feG9Yh0SKcO4gW6bejfi196yq4ba1fE53KAZ0Qxr4C-Tf2P5AWMn0RAW0002mV__________3yMF3zB__________m_J__________yFVWm0\" class=\"link\" target=\"_blank\" tabindex=\"-1\"><img src=\"https://yabs.yandex.ru/count/35Y6MaFFqkO40000gQA0822El2w0QWLHbGAR1cbQYBhK8GS7feG9Yh0SKcO4gWAbejfi196yq4ba1fE53K6Z0Qxr4C-Tf2P5AWMn0RAW0002mV__________3yMF3zB__________m_J__________yFVWm0\" width=\"120\" height=\"90\" alt=\"Яндекс.Музыка\"/></a><h1 class=\"teaser__title\"><a href=\"https://yabs.yandex.ru/count/35Y6MdT72Ri40000gQA0022El2w0QWLHbGAR1cbQYBhK8GS7feG9Yh0SKcO4gW6bejfi196yq4ba1fE53KAZ0Qxr4C-Tf2P5AWMn0RAW0002mV__________3yMF3zB__________m_J__________yFVWm0\" class=\"link link_blue_yes\" target=\"_blank\"><span class=\"teaser__nowrap\">«Выживший»</span></a></h1><div class=\"teaser__description\"><span class=\"teaser__nowrap\">Cаундтрек к новому </span>&#32;<span class=\"teaser__nowrap\">фильму с Ди Каприо</span></div></div>\n",
      "</div></div></div></div><div class=\"col gap\"> </div></div></div><div class=\"container container__search container__line\"><div class=\"row second text_black_yes\"><div class=\"col col_home-logo\"><div class=\"home-logo\"><div class=\"home-logo__default\" role=\"img\"  aria-label=\"Яндекс\"></div></div></div><div class=\"col col_home-arrow\"><div class=\"home-arrow\"><div class=\"home-arrow__tabs\"><div class=\"home-tabs i-bem\" role=\"navigation\" data-bem=\"{&quot;home-tabs&quot;:{&quot;href&quot;:{&quot;maps&quot;:&quot;https://maps.yandex.ru/&quot;,&quot;market&quot;:&quot;https://market.yandex.ru/?clid=505&quot;,&quot;news&quot;:&quot;https://news.yandex.ru/&quot;,&quot;translate&quot;:&quot;https://translate.yandex.ru/&quot;,&quot;images&quot;:&quot;//yandex.ru/images/&quot;,&quot;video&quot;:&quot;//yandex.ru/video&quot;,&quot;music&quot;:&quot;https://music.yandex.ru/&quot;,&quot;blogs&quot;:&quot;//blogs.yandex.ru/&quot;,&quot;yaca&quot;:&quot;http://yaca.yandex.ru/&quot;,&quot;pogoda&quot;:&quot;https://pogoda.yandex.ru/&quot;,&quot;people&quot;:&quot;//yandex.ru/people&quot;,&quot;traffic&quot;:&quot;https://probki.yandex.ru/&quot;,&quot;rabota&quot;:&quot;https://rabota.yandex.ru/&quot;,&quot;slovari&quot;:&quot;//slovari.yandex.ru/&quot;,&quot;fotki&quot;:&quot;http://fotki.yandex.ru/&quot;},&quot;search&quot;:{&quot;maps&quot;:&quot;https://maps.yandex.ru/?source=morda&amp;text=%s&quot;,&quot;market&quot;:&quot;https://market.yandex.ru/search.xml?clid=527&amp;cvredirect=2&amp;text=%s&quot;,&quot;news&quot;:&quot;https://news.yandex.ru/yandsearch?grhow=clutop&amp;rpt=nnews2&amp;text=%s&quot;,&quot;translate&quot;:&quot;https://translate.yandex.ru/?text=%s&quot;,&quot;images&quot;:&quot;//yandex.ru/images/search?text=%s&quot;,&quot;video&quot;:&quot;//yandex.ru/video/search?text=%s&quot;,&quot;music&quot;:&quot;https://music.yandex.ru/search?text=%s&quot;,&quot;blogs&quot;:&quot;//blogs.yandex.ru/search.xml?ft=blog&amp;text=%s&quot;,&quot;yaca&quot;:&quot;http://yaca.yandex.ru/yandsearch?rpt=rs2&amp;text=%s&quot;,&quot;pogoda&quot;:&quot;https://pogoda.yandex.ru/search?request=%s&quot;,&quot;people&quot;:&quot;//yandex.ru/yandsearch?filter=people&amp;text=%s&quot;,&quot;traffic&quot;:&quot;https://maps.yandex.ru/?text=%s&quot;,&quot;rabota&quot;:&quot;https://rabota.yandex.ru/search.xml/?text=%s&quot;,&quot;slovari&quot;:&quot;//slovari.yandex.ru/search.xml?text=%s&quot;,&quot;fotki&quot;:&quot;http://fotki.yandex.ru/search.xml?text=%s&quot;}}}\"><a href=\"https://maps.yandex.ru/\" class=\"link link_blue_yes home-tabs__link home-tabs__search\" data-id=\"maps\">Карты</a><a href=\"https://market.yandex.ru/?clid=505\" class=\"link link_blue_yes home-tabs__link home-tabs__search\" data-id=\"market\">Маркет</a><a href=\"https://news.yandex.ru/\" class=\"link link_blue_yes home-tabs__link home-tabs__search\" data-id=\"news\">Новости</a><a href=\"https://translate.yandex.ru/\" class=\"link link_blue_yes home-tabs__link home-tabs__search\" data-id=\"translate\">Переводчик</a><a href=\"//yandex.ru/images/\" class=\"link link_blue_yes home-tabs__link home-tabs__search\" data-id=\"images\">Картинки</a><a href=\"//yandex.ru/video\" class=\"link link_blue_yes home-tabs__link home-tabs__search\" data-id=\"video\">Видео</a><a href=\"https://music.yandex.ru/\" class=\"link link_blue_yes home-tabs__link i-adaptive__1 home-tabs__search\" data-id=\"music\">Музыка</a><div class=\"dropdown-menu  dropdown i-bem\" data-bem=\"{&quot;dropdown-menu&quot;:{&quot;href&quot;:{&quot;maps&quot;:&quot;https://maps.yandex.ru/&quot;,&quot;market&quot;:&quot;https://market.yandex.ru/?clid=505&quot;,&quot;news&quot;:&quot;https://news.yandex.ru/&quot;,&quot;translate&quot;:&quot;https://translate.yandex.ru/&quot;,&quot;images&quot;:&quot;//yandex.ru/images/&quot;,&quot;video&quot;:&quot;//yandex.ru/video&quot;,&quot;music&quot;:&quot;https://music.yandex.ru/&quot;,&quot;blogs&quot;:&quot;//blogs.yandex.ru/&quot;,&quot;yaca&quot;:&quot;http://yaca.yandex.ru/&quot;,&quot;pogoda&quot;:&quot;https://pogoda.yandex.ru/&quot;,&quot;people&quot;:&quot;//yandex.ru/people&quot;,&quot;traffic&quot;:&quot;https://probki.yandex.ru/&quot;,&quot;rabota&quot;:&quot;https://rabota.yandex.ru/&quot;,&quot;slovari&quot;:&quot;//slovari.yandex.ru/&quot;,&quot;fotki&quot;:&quot;http://fotki.yandex.ru/&quot;},&quot;search&quot;:{&quot;maps&quot;:&quot;https://maps.yandex.ru/?source=morda&amp;text=%s&quot;,&quot;market&quot;:&quot;https://market.yandex.ru/search.xml?clid=527&amp;cvredirect=2&amp;text=%s&quot;,&quot;news&quot;:&quot;https://news.yandex.ru/yandsearch?grhow=clutop&amp;rpt=nnews2&amp;text=%s&quot;,&quot;translate&quot;:&quot;https://translate.yandex.ru/?text=%s&quot;,&quot;images&quot;:&quot;//yandex.ru/images/search?text=%s&quot;,&quot;video&quot;:&quot;//yandex.ru/video/search?text=%s&quot;,&quot;music&quot;:&quot;https://music.yandex.ru/search?text=%s&quot;,&quot;blogs&quot;:&quot;//blogs.yandex.ru/search.xml?ft=blog&amp;text=%s&quot;,&quot;yaca&quot;:&quot;http://yaca.yandex.ru/yandsearch?rpt=rs2&amp;text=%s&quot;,&quot;pogoda&quot;:&quot;https://pogoda.yandex.ru/search?request=%s&quot;,&quot;people&quot;:&quot;//yandex.ru/yandsearch?filter=people&amp;text=%s&quot;,&quot;traffic&quot;:&quot;https://maps.yandex.ru/?text=%s&quot;,&quot;rabota&quot;:&quot;https://rabota.yandex.ru/search.xml/?text=%s&quot;,&quot;slovari&quot;:&quot;//slovari.yandex.ru/search.xml?text=%s&quot;,&quot;fotki&quot;:&quot;http://fotki.yandex.ru/search.xml?text=%s&quot;}}}\"><a class=\"link  i-bem link_blue_yes home-tabs__link home-tabs__more dropdown-menu__switcher link_pseudo_yes\" href=\"//www.yandex.ru/all\" data-bem=\"{&quot;link&quot;:{}}\" aria-expanded=\"false\" aria-haspopup=\"true\"><span class=\"link__inner\">ещё</span></a><div class=\"i-bem popup dropdown-menu__popup dropdown-menu__popup_extra_yes dropdown__popup popup_theme_ffffff popup_autoclosable_yes popup_adaptive_yes popup_animate_yes\" data-bem=\"{&quot;popup&quot;:{&quot;disableoutside&quot;:&quot;yes&quot;}}\" role=\"menu\"><div class=\"popup__under\"></div><i class=\"popup__tail\"></i><div class=\"popup__content\"><div class=\"services-more\"><div class=\"services-more__top i-bem columns columns_count_3\" data-bem=\"{&quot;columns&quot;:{}}\"><div class=\"services-more__item \" role=\"menuitem\"><a href=\"//avia.yandex.ru/?utm_source=yamain&utm_medium=popup&utm_campaign=allmordaru\" class=\"link home-tabs__more-link link_black_yes\" data-id=\"avia\">Авиабилеты</a></div><div class=\"services-more__item \" role=\"menuitem\"><a href=\"http://auto.ru/?from=tab-yandex-glavnaya\" class=\"link home-tabs__more-link link_black_yes\" data-id=\"autoru\">Авто.ру</a></div><div class=\"services-more__item \" role=\"menuitem\"><a href=\"https://afisha.yandex.ru/\" class=\"link home-tabs__more-link link_black_yes\" data-id=\"afisha\">Афиша</a></div><div class=\"services-more__item \" role=\"menuitem\"><a href=\"//blogs.yandex.ru/\" class=\"link home-tabs__more-link link_black_yes home-tabs__search\" data-id=\"blogs\">Блоги</a></div><div class=\"services-more__item \" role=\"menuitem\"><a href=\"https://gorod.yandex.ru/?utm_source=yamain&utm_medium=more\" class=\"link home-tabs__more-link link_black_yes\" data-id=\"gorod\">Город</a></div><div class=\"services-more__item \" role=\"menuitem\"><a href=\"https://money.yandex.ru/\" class=\"link home-tabs__more-link link_black_yes\" data-id=\"money\">Деньги</a></div><div class=\"services-more__item \" role=\"menuitem\"><a href=\"https://disk.yandex.ru/?source=services-main\" class=\"link home-tabs__more-link link_black_yes\" data-id=\"disk\">Диск</a></div><div class=\"services-more__item \" role=\"menuitem\"><a href=\"//ege.yandex.ru/\" class=\"link home-tabs__more-link link_black_yes\" data-id=\"ege\">ЕГЭ</a></div><div class=\"services-more__item \" role=\"menuitem\"><a href=\"http://yaca.yandex.ru/\" class=\"link home-tabs__more-link link_black_yes home-tabs__search\" data-id=\"yaca\">Каталог</a></div><div class=\"services-more__item \" role=\"menuitem\"><a href=\"https://music.yandex.ru/\" class=\"link home-tabs__more-link link_black_yes i-adaptive__1 home-tabs__search\" data-id=\"music\">Музыка</a></div><div class=\"services-more__item \" role=\"menuitem\"><a href=\"//realty.yandex.ru/?from=morda_tab\" class=\"link home-tabs__more-link link_black_yes\" data-id=\"realty\">Недвижимость</a></div><div class=\"services-more__item \" role=\"menuitem\"><a href=\"https://pogoda.yandex.ru/\" class=\"link home-tabs__more-link link_black_yes home-tabs__search\" data-id=\"pogoda\">Погода</a></div><div class=\"services-more__item \" role=\"menuitem\"><a href=\"//yandex.ru/people\" class=\"link home-tabs__more-link link_black_yes home-tabs__search\" data-id=\"people\">Поиск людей</a></div><div class=\"services-more__item \" role=\"menuitem\"><a href=\"https://mail.yandex.ru/\" class=\"link home-tabs__more-link link_black_yes\" data-id=\"mail\">Почта</a></div><div class=\"services-more__item \" role=\"menuitem\"><a href=\"https://probki.yandex.ru/\" class=\"link home-tabs__more-link link_black_yes home-tabs__search\" data-id=\"traffic\">Пробки</a></div><div class=\"services-more__item \" role=\"menuitem\"><a href=\"https://travel.yandex.ru/?from=morda&utm_source=yandex_morda_tab&utm_medium=cpm&utm_campaign=yandex&utm_content=tab_exp\" class=\"link home-tabs__more-link link_black_yes\" data-id=\"travel\">Путешествия</a></div><div class=\"services-more__item \" role=\"menuitem\"><a href=\"https://rabota.yandex.ru/\" class=\"link home-tabs__more-link link_black_yes home-tabs__search\" data-id=\"rabota\">Работа</a></div><div class=\"services-more__item \" role=\"menuitem\"><a href=\"https://radio.yandex.ru/?from=all\" class=\"link home-tabs__more-link link_black_yes\" data-id=\"radio\">Радио</a></div><div class=\"services-more__item \" role=\"menuitem\"><a href=\"https://rasp.yandex.ru/\" class=\"link home-tabs__more-link link_black_yes\" data-id=\"rasp\">Расписания</a></div><div class=\"services-more__item \" role=\"menuitem\"><a href=\"//slovari.yandex.ru/\" class=\"link home-tabs__more-link link_black_yes home-tabs__search\" data-id=\"slovari\">Словари</a></div><div class=\"services-more__item \" role=\"menuitem\"><a href=\"https://taxi.yandex.ru\" class=\"link home-tabs__more-link link_black_yes\" data-id=\"taxi\">Такси</a></div><div class=\"services-more__item \" role=\"menuitem\"><a href=\"https://tv.yandex.ru/\" class=\"link home-tabs__more-link link_black_yes\" data-id=\"tv\">Телепрограмма</a></div><div class=\"services-more__item \" role=\"menuitem\"><a href=\"http://fotki.yandex.ru/\" class=\"link home-tabs__more-link link_black_yes home-tabs__search\" data-id=\"fotki\">Фотки</a></div></div><div class=\"services-more__bottom\"><div class=\"services-more__item services-more__item_bottom\" role=\"menuitem\"><a href=\"//mobile.yandex.ru/?from=desktop_morda_more\" class=\"link home-tabs__more-link link_black_yes\" data-id=\"mobile\">Для&nbsp;мобильного</a></div><div class=\"services-more__item services-more__item_bottom\" role=\"menuitem\"><a href=\"http://soft.yandex.ru/?from=prov_all\" class=\"link home-tabs__more-link link_black_yes\" data-id=\"soft\">Программы</a></div><div class=\"services-more__item services-more__item_bottom\" role=\"menuitem\"><a href=\"//www.yandex.ru/all\" class=\"link home-tabs__more-link link_black_yes\" data-id=\"all\">Все&nbsp;сервисы</a></div></div></div></div></div></div></div></div><div class=\"home-arrow__search-wrapper\"><div class=\"home-arrow__search\"><form class=\"search2 suggest2-form suggest2-counter i-bem suggest2-form_stats_yes\" action=\"https://yandex.ru/search/\" role=\"search\" aria-label=\"Поиск в интернете\" onclick=\"return {&quot;suggest2-form&quot;:{},&quot;suggest2-counter&quot;:{&quot;service&quot;:&quot;morda_ru_desktop&quot;,&quot;host&quot;:&quot;//yandex.ru/clck&quot;,&quot;path&quot;:&quot;jclck&quot;,&quot;submitBySelect&quot;:true,&quot;preventSubmit&quot;:true,&quot;suggestReqID&quot;:true,&quot;params&quot;:{&quot;dtype&quot;:&quot;stred&quot;,&quot;pid&quot;:&quot;0&quot;,&quot;cid&quot;:&quot;2873&quot;}},&quot;search2&quot;:{&quot;cleanOnSubmit&quot;:false,&quot;nl&quot;:true}}\"><input type=\"hidden\" name=\"lr\" value=\"213\"/><input type=\"hidden\" name=\"msid\" value=\"22889.31337.1453851372.95901\"/><div class=\"suggest2-form__node\"><div class=\"search2__button\"><button class=\"button suggest2-form__button button_theme_websearch button_size_m i-bem\" data-bem=\"{&quot;button&quot;:{}}\" tabindex=\"-1\" role=\"button\" type=\"submit\"><span class=\"button__text\">Найти</span></button></div><div class=\"search2__input\"><span class=\"input suggest2-form__input input_size_m input_theme_websearch input_search2-clear-hide_yes input_ahead_yes input_autofocus_capture input_keyboard_yes input_clear_yes input_count_yes i-bem\" data-bem=\"{&quot;input&quot;:{&quot;live&quot;:false,&quot;autoFocus&quot;:true}}\"><span class=\"input__box\"><input class=\"input__control input__input\" tabindex=\"2\" autocomplete=\"off\" aria-label=\"Запрос\" id=\"text\" maxlength=\"400\" name=\"text\"/><span class=\"input__clear\" unselectable=\"on\">&nbsp;</span><div class=\"keyboard-loader input__keyboard-button i-bem b-opacity b-opacity-hold-ie keyboard-loader_lang_ru\" data-bem=\"{&quot;keyboard-loader&quot;:{&quot;name&quot;:&quot;keyboard-loader&quot;,&quot;statOpen&quot;:&quot;&quot;,&quot;statClose&quot;:&quot;&quot;}}\"><i class=\"b-ico keyboard-loader__icon b-ico-kbd\"></i></div></span><span class=\"input__samples text_black_yes\">Найдётся всё.&nbsp;<span class=\"input__sample-what\">Например,&nbsp;</span><span class=\"link input__sample link_gray_yes link_pseudo_yes\" tabindex=\"0\"><span class=\"link__inner\"><span class=\"input__sample-first-word\">радио</span> онлайн</span></span></span></span></div><div class=\"i-bem popup suggest2 suggest2_theme_flat suggest2_size_m suggest2_adaptive_yes suggest2_ahead_yes popup_adaptive_yes popup_animate_no popup_autoclosable_yes popup_theme_ffffff\" data-bem=\"{&quot;popup&quot;:{&quot;directions&quot;:&quot;bottom-left&quot;},&quot;suggest2&quot;:{&quot;url&quot;:&quot;//suggest.yandex.ru/suggest-ya.cgi&quot;,&quot;data&quot;:{&quot;srv&quot;:&quot;morda_ru_desktop&quot;,&quot;wiz&quot;:&quot;TrWth&quot;,&quot;lr&quot;:&quot;213&quot;,&quot;uil&quot;:&quot;ru&quot;,&quot;fact&quot;:1,&quot;v&quot;:4,&quot;icon&quot;:1,&quot;hl&quot;:1,&quot;html&quot;:1,&quot;yu&quot;:&quot;6902742881453851372&quot;},&quot;onFocus&quot;:&quot;show&quot;,&quot;aheadFromServer&quot;:true,&quot;submitBySelect&quot;:true,&quot;requestOnEmptyInput&quot;:true},&quot;suggest2-detect&quot;:{}}\"><div class=\"popup__under\"></div><div class=\"popup__content\"> </div></div></div></form></div></div><div class=\"home-arrow__promo-wrapper\"><div class=\"home-arrow__promo\"><div class=\"yabrowser-promo\"><span class=\"yabrowser-promo__text\"><a href=\"https://yabs.yandex.ru/count/35Y6MWypW1S40000gQA0022El2w0QWLHbGgR0MsEYBTb8WS7feG9YhKygdm3gWIbg_S61P6yq4ba1fE53KAZ0Qxr4C-Tf2P5AWMn0RAW0002mV__________3yMF3zB__________m_J__________yFVWm0\" class=\"link yabrowser-promo__icon-link link_black_yes\" aria-hidden=\"true\" tabindex=\"-1\" onmousedown=\"home.ds({&quot;el&quot;:&quot;soft_link&quot;,&quot;e&quot;:&quot;click&quot;,&quot;p&quot;:&quot;browser&quot;},this);\"><img class=\"yabrowser-promo__icon\" src=\"https://yabs.yandex.ru/count/35Y6MdlL3rm40000gQA0822El2w0QWLHbGgR0MsEYBTb8WS7feG9YhKygdm3gWEbg_S61P6yq4ba1fE53K6Z0Qxr4C-Tf2P5AWMn0RAW0002mV__________3yMF3zB__________m_J__________yFVWm0\" width=\"18\" height=\"18\"></a><a href=\"https://yabs.yandex.ru/count/35Y6MWypW1S40000gQA0022El2w0QWLHbGgR0MsEYBTb8WS7feG9YhKygdm3gWIbg_S61P6yq4ba1fE53KAZ0Qxr4C-Tf2P5AWMn0RAW0002mV__________3yMF3zB__________m_J__________yFVWm0\" class=\"link link_black_yes yabrowser-promo__text-link\" onmousedown=\"home.ds({&quot;el&quot;:&quot;soft_link&quot;,&quot;e&quot;:&quot;click&quot;,&quot;p&quot;:&quot;browser&quot;},this);\">Скачайте Яндекс.Браузер</a><img class=\"dist-stat\" src=\"https://yandex.ru/clck/counter/dtype=stred/pid=198/cid=198/path=tech.portal-ads.soft_link/vars=-reqid=22889.31337.1453851372.95901,-eventtype=show,-productname=browser/rnd=1453851373027/*\" alt=\"\"/></span></div></div></div></div></div></div></div><div class=\"container container__banner container__line\"><div class=\"row third\"><div class=\"b-inline b-inline_banner\"><div id=\"banner\" class=\"b-banner__content\"><div id=\"bc\"><noscript><a href=\"\" target=\"_blank\"><img src=\"\" alt=\"\" width=\"\" height=\"\" border=\"0\"/></a></noscript></div></div></div></div></div><div class=\"container container__heap container__line heap heap_direction_column\"><div class=\"row text_black_yes heap__row widgets__row widgets__row_tr_2\"><div class=\"col text_black_yes heap__item widgets__col widgets__col_td_3\"><div class=\"i-bem widget widget_mode_plain widgets__item b-widget-fixed\" data-bem=\"{&quot;widget&quot;:{&quot;id&quot;:&quot;_weather&quot;}}\" id=\"wd-wrapper-_weather\"><div id=\"wd-_weather\" class=\"b-widget-data b-wrapper b-wrapper-\"><div class=\"weather\" role=\"complementary\" aria-label=\"Погода\"><h1><a href=\"https://pogoda.yandex.ru/moscow/\" class=\"link link_blue_yes\">Погода<a href=\"https://pogoda.yandex.ru/moscow/\" title=\"небольшой снег\" class=\"link weather__icon_link\" aria-hidden=\"true\" tabindex=\"-1\"  ><i class=\"b-inline weather__icon weather__icon_ovc_-sn\"></i></a><a href=\"https://pogoda.yandex.ru/moscow/\" class=\"link link_black_yes\" aria-label=\"-10 °C, небольшой снег\">−10 °C</a></a></h1><div class=\"weather__item\"><a href=\"https://pogoda.yandex.ru/moscow/\" class=\"link link_black_yes\" aria-label=\"утром -6 °C\">Утром&#160;−6</a>,&#32;&#160;<a href=\"https://pogoda.yandex.ru/moscow/\" class=\"link link_black_yes\" aria-label=\"днём -2 °C\">днём&#160;−2</a></div></div></div></div><div class=\"i-bem widget widget_mode_plain widgets__item b-widget-fixed\" data-bem=\"{&quot;widget&quot;:{&quot;id&quot;:&quot;_services&quot;}}\" id=\"wd-wrapper-_services\"><div id=\"wd-_services\" class=\"b-widget-data b-wrapper b-wrapper-\"><div class=\"services\" aria-label=\"Посещаемое\" role=\"complementary\"><h1><a href=\"//www.yandex.ru/all\" class=\"link link_blue_yes\">Посещаемое</a></h1><ul class=\"services__main\"><li class=\"services__main-item\"><a href=\"https://market.yandex.ru/?clid=506\" class=\"link link_bold_yes link_black_yes\">Маркет</a><span aria-hidden=\"true\">&nbsp;—&nbsp;</span><a href=\"https://market.yandex.ru/search?hid=7811901&how=discount_p&clid=514&utm_source=face&utm_medium=cpc&utm_term=dresssale&utm_campaign=ru\" class=\"link link_black_yes\">платья за полцены</a></li><li class=\"services__main-item\"><a href=\"https://auto.ru/?from=morda&utm_source=yandex_list_service&utm_medium=cpm&utm_campaign=q1_january_r1_title&utm_content=wrdvzrst-14328_r1&utm_term=inomarki-do-7-let_wrdvzrst-14328\" class=\"link link_bold_yes link_black_yes\">Авто.ру</a><span aria-hidden=\"true\">&nbsp;—&nbsp;</span><a href=\"https://auto.ru/cars/used/?search%5Bsection_id%5D=1&search%5Bmark%5D%5B0%5D=-1&search%5Bcountry_group_id%5D%5B1%5D=1&search%5Bmark-folder%5D%5B0%5D=0-&search%5Byear%5D%5Bmin%5D=2008&search%5Bcustom%5D=1&search%5Bstate%5D=1&sort%5Bcreate_date%5D=desc&show_sales=1&from=morda&utm_source=yandex_list_service&utm_medium=cpm&utm_campaign=q1_january_r1_subtitle&utm_content=wrdvzrst-14328_r1&utm_term=inomarki-do-7-let_wrdvzrst-14328\" class=\"link link_black_yes\">иномарки до 7 лет</a></li><li class=\"services__main-item\"><a href=\"https://realty.yandex.ru/search?from=morda&type=SELL&category=APARTMENT&newFlat=YES&rgid=741964&utm_source=yandex_sign&utm_medium=cpm&utm_campaign=newbuilding_mskmo&utm_content=prices_mskmo\" class=\"link link_bold_yes link_black_yes\">Недвижимость</a><span aria-hidden=\"true\">&nbsp;—&nbsp;</span><a href=\"https://realty.yandex.ru/search?from=morda&type=SELL&category=APARTMENT&newFlat=YES&rgid=741964&utm_source=yandex_sign&utm_medium=cpm&utm_campaign=newbuilding_mskmo&utm_content=prices_mskmo\" class=\"link link_black_yes\">цены на новостройки</a></li><li class=\"services__main-item\"><a href=\"https://radio.yandex.ru/genre/children?utm_source=yandex_service_list&utm_medium=display&utm_campaign=children\" class=\"link link_bold_yes link_black_yes\">Радио</a><span aria-hidden=\"true\">&nbsp;—&nbsp;</span><a href=\"https://radio.yandex.ru/genre/children?utm_source=yandex_service_list&utm_medium=display&utm_campaign=children\" class=\"link link_black_yes\">для детского праздника</a></li><li class=\"services__main-item\"><a href=\"https://travel.yandex.ru/?utm_source=yandex_sign&utm_medium=cpm&utm_campaign=yandex&utm_content=tr_hotels800_225\" class=\"link link_bold_yes link_black_yes\">Путешествия</a><span aria-hidden=\"true\">&nbsp;—&nbsp;</span><a href=\"https://travel.yandex.ru/?utm_source=yandex_sign&utm_medium=cpm&utm_campaign=yandex&utm_content=tr_hotels800_225\" class=\"link link_black_yes\">почти 800 000 отелей</a></li><li class=\"services__main-item\"><a href=\"//yandex.ru/images/\" class=\"link link_bold_yes link_black_yes\">Картинки</a><span aria-hidden=\"true\">&nbsp;—&nbsp;</span><a href=\"https://yandex.ru/images/search?text=%D0%BF%D1%80%D0%B8%D1%80%D0%BE%D0%B4%D0%B0&source=images_nature\" class=\"link link_black_yes\">природа</a></li><li class=\"services__main-item\"><a href=\"http://beta.kinopoisk.ru/?utm_source=yamain&utm_medium=link&utm_campaign=title\" class=\"link link_bold_yes link_black_yes\">КиноПоиск</a><span aria-hidden=\"true\">&nbsp;—&nbsp;</span><a href=\"//beta.kinopoisk.ru/film/229069?utm_source=yamain&utm_medium=link&utm_campaign=online&utm_content=kp21\" class=\"link link_black_yes\">смотреть бесплатно Вий</a></li></ul><ul class=\"services__additional\"></ul></div></div></div></div><div class=\"col text_black_yes heap__item widgets__col widgets__col_td_4\"><div class=\"i-bem widget widget_mode_plain widgets__item b-widget-fixed\" data-bem=\"{&quot;widget&quot;:{&quot;id&quot;:&quot;_traffic&quot;}}\" id=\"wd-wrapper-_traffic\"><div id=\"wd-_traffic\" class=\"b-widget-data b-wrapper b-wrapper-\"><div class=\"traffic\" role=\"complementary\" aria-label=\"Пробки\"><h1><a href=\"https://maps.yandex.ru/moscow_traffic\" class=\"link link_blue_yes\">Пробки</a><a href=\"https://maps.yandex.ru/moscow_traffic\" class=\"link\" aria-hidden=\"true\" tabindex=\"-1\"><i class=\"b-ico traffic__icon b-ico-traffic-gn\"></i></a><a href=\"https://maps.yandex.ru/moscow_traffic\" class=\"link link_black_yes\">0 баллов</a></h1><a href=\"https://maps.yandex.ru/moscow_traffic\" class=\"link traffic__description link_black_yes\">На дорогах свободно</a></div></div></div><div class=\"i-bem widget widget_mode_plain widgets__item b-widget-fixed\" data-bem=\"{&quot;widget&quot;:{&quot;id&quot;:&quot;_tv&quot;}}\" id=\"wd-wrapper-_tv\"><div id=\"wd-_tv\" class=\"b-widget-data b-wrapper b-wrapper-\"><div class=\"tvafisha\" aria-label=\"Телепрограмма\" role=\"complementary\"><div class=\"content-tabs i-bem\" data-bem=\"{&quot;content-tabs&quot;:{&quot;live&quot;:true}}\"><div class=\"content-tabs__head\" role=\"tablist\"><div class=\"content-tabs__head-item content-tabs__head-item_active_true\" id=\"tab947918\" data-save-url=\"https://www.yandex.ru/y/?retdom=ru&sk=ydf9c425dd54c69b57e4d3057f168a2a2&empty=1&af=0\"><h1><a href=\"https://tv.yandex.ru/213/\" class=\"link link_blue_yes content-tabs__link\" tabindex=\"0\" aria-selected=\"true\" aria-controls=\"tab947918c\" role=\"tab\">Телепрограмма</a></h1></div></div><div class=\"content-tabs__items content-tabs__items_active_true\" role=\"tabpanel\" id=\"tab947918c\" aria-labelledby=\"tab947918\" aria-hidden=\"false\"><ul class=\"list tv-list\"><li class=\"list__item b-content_list__item\"><span class=\"time\">02:10</span><span class=\"title\"><a href=\"https://tv.yandex.ru/213/program/505070?eventId=79871082\" class=\"link tv-channel__item link_black_yes\">Сверхъестественное</a> <span class=\"tv-list__channel\"><a href=\"https://tv.yandex.ru/213/channels/1003\" class=\"link tv-channel__item link_gray_yes\">Пятница</a></span></span></li><li class=\"list__item b-content_list__item\"><span class=\"time\">02:20</span><span class=\"title\"><a href=\"https://tv.yandex.ru/213/program/1995101?eventId=79723847\" class=\"link tv-channel__item link_black_yes\" title=\"Хорошие руки (3-я и 4-я серии)\">Хорошие руки</a> <span class=\"tv-list__channel\"><a href=\"https://tv.yandex.ru/213/channels/304\" class=\"link tv-channel__item link_gray_yes\">Домашний</a></span></span></li><li class=\"list__item b-content_list__item\"><span class=\"time\">02:50</span><span class=\"title\"><a href=\"https://tv.yandex.ru/213/program/1995188?eventId=79724099\" class=\"link tv-channel__item link_black_yes\" title=\"Премьера! «Смерть на похоронах»\">Премьера! «Смерть на…</a> <span class=\"tv-list__channel\"><a href=\"https://tv.yandex.ru/213/channels/79\" class=\"link tv-channel__item link_gray_yes\">СТС</a></span></span></li><li class=\"list__item b-content_list__item\"><span class=\"time\">03:05</span><span class=\"title\"><a href=\"https://tv.yandex.ru/213/program/426834?eventId=79723294\" class=\"link tv-channel__item link_black_yes\" title=\"Соло для пистолета с оркестром (3-я и 4-я серии)\">Соло для пистолета с…</a> <span class=\"tv-list__channel\"><a href=\"https://tv.yandex.ru/213/channels/162\" class=\"link tv-channel__item link_gray_yes\">НТВ</a></span></span></li><li class=\"list__item b-content_list__item\"><span class=\"time\">03:05</span><span class=\"title\"><a href=\"https://tv.yandex.ru/213/program/205809?eventId=79722990\" class=\"link tv-channel__item link_black_yes\" title=\"Срочно в номер («Посмертный дебют», 2-я серия)\">Срочно в номер</a> <span class=\"tv-list__channel\"><a href=\"https://tv.yandex.ru/213/channels/711\" class=\"link tv-channel__item link_gray_yes\">Россия 1</a></span></span></li></ul></div></div></div></div></div></div><div class=\"col text_black_yes heap__item widgets__col widgets__col_td_5\"><div class=\"i-bem widget widget_mode_plain widgets__item b-widget-fixed\" data-bem=\"{&quot;widget&quot;:{&quot;id&quot;:&quot;_geo&quot;}}\" id=\"wd-wrapper-_geo\"><div id=\"wd-_geo\" class=\"b-widget-data b-wrapper b-wrapper-\"><div class=\"region\" role=\"complementary\" aria-label=\"Карта Москвы\"><h1 class=\"region__title\"><a href=\"//tune.yandex.ru/region/?retpath=https%3A%2F%2Fwww.yandex.ru%2F%3Fdomredir%3D1\" class=\"link b-inline region__setup region__setup_icon\" target=\"_self\" title=\"Изменить город\"><i class=\"b-ico b-ico-setup_g\"></i></a><a href=\"https://maps.yandex.ru/?utm_source=geoblock_maps_moscow\" class=\"link link_blue_yes\">Карта <span class=\"region__cityname\"><span class=\"region__cityname_text\">Москвы</span></span></a></h1><div class=\"region__links\"><a href=\"//metro.yandex.ru/moscow\" class=\"link link_black_yes link_bold_yes region__link\">Метро</a><a href=\"https://taxi.yandex.ru/?from=mtaxi_geoblock_msk\" class=\"link link_black_yes link_bold_yes region__link\">Такси</a><a href=\"https://rasp.yandex.ru/?utm_source=yamain&utm_medium=geoblock&utm_campaign=default\" class=\"link link_black_yes link_bold_yes region__link\">Расписания</a></div></div></div></div><div class=\"i-bem widget widget_mode_plain widgets__item b-widget-fixed\" data-bem=\"{&quot;widget&quot;:{&quot;id&quot;:&quot;_afisha&quot;}}\" id=\"wd-wrapper-_afisha\"><div id=\"wd-_afisha\" class=\"b-widget-data b-wrapper b-wrapper-\"><div class=\"tvafisha\" aria-label=\"Афиша\" role=\"complementary\"><div class=\"content-tabs i-bem\" data-bem=\"{&quot;content-tabs&quot;:{&quot;live&quot;:true}}\"><div class=\"content-tabs__head\" role=\"tablist\"><div class=\"content-tabs__head-item content-tabs__head-item_active_true\" id=\"tab860911\" data-save-url=\"https://www.yandex.ru/y/?retdom=ru&sk=ydf9c425dd54c69b57e4d3057f168a2a2&empty=1&af=1\"><h1><a href=\"https://afisha.yandex.ru/?city=moscow&utm_source=yamain&utm_media=yamain_afisha\" class=\"link link_blue_yes content-tabs__link\" tabindex=\"0\" aria-selected=\"true\" aria-controls=\"tab860911c\" role=\"tab\">Афиша</a></h1></div></div><div class=\"content-tabs__items content-tabs__items_active_true\" role=\"tabpanel\" id=\"tab860911c\" aria-labelledby=\"tab860911\" aria-hidden=\"false\"><div class=\"b-afisha\"><div class=\"b-afisha__premiere\"><a href=\"https://afisha.yandex.ru/events/5629b4a27abde921a3b9b075?city=moscow&amp;utm_source=yamain&amp;utm_media=yamain_afisha\" class=\"link link_black_yes b-afisha__item\">Турандот</a><span class=\"b-afisha__premiere_day text_gray_yes\">премьера в сб</span></div><ul class=\"list b-afisha-list\"><li class=\"list__item\"><a href=\"https://afisha.yandex.ru/events/5575facccc1c725c1b9865e9?city=moscow&amp;utm_source=yamain&amp;utm_media=yamain_afisha\" class=\"link link_black_yes b-afisha__item\" title=\"Элвин и бурундуки: Грандиозное бурундуключение\">Элвин и бурундуки…</a> <span class=\"b-afisha__genre text_gray_yes\">приключения</span></li><li class=\"list__item\"><a href=\"https://afisha.yandex.ru/events/5587e720cc1c7211b4eac1cc?city=moscow&amp;utm_source=yamain&amp;utm_media=yamain_afisha\" class=\"link link_black_yes b-afisha__item\">Омерзительная восьмёрка</a> <span class=\"b-afisha__genre text_gray_yes\">триллер</span></li><li class=\"list__item\"><a href=\"https://afisha.yandex.ru/events/5587e3dacc1c7211b4ea8389?city=moscow&amp;utm_source=yamain&amp;utm_media=yamain_afisha\" class=\"link link_black_yes b-afisha__item\">Статус: Свободен</a> <span class=\"b-afisha__genre text_gray_yes\">комедия</span></li><li class=\"list__item\"><a href=\"https://afisha.yandex.ru/events/5587f702cc1c7211b4ebe8ad?city=moscow&amp;utm_source=yamain&amp;utm_media=yamain_afisha\" class=\"link link_black_yes b-afisha__item\">Выживший</a> <span class=\"b-afisha__genre text_gray_yes\">драма</span></li><li class=\"list__item list__item_promo\"><a href=\"https://afisha.yandex.ru/events/5661c05dcc1c724a26805e06?&utm_source=yamain&utm_medium=informer&utm_campaign=polunin\" class=\"link link_black_yes link_bold_yes\">Снежное шоу Славы Полунина</a></li></ul></div></div></div></div></div></div></div></div></div></div></div><div class=\"row gap gap_side_bottom\"> </div><div class=\"rows__bg\"> </div><div class=\"row rows__row rows__row_last\"><div class=\"col footer\" role=\"contentinfo\"><div class=\"container foot text_gray_yes\"><div class=\"row foot__row\"><div class=\"col foot__business business\"><div class=\"\"><a href=\"https://direct.yandex.ru/?from=maintest_ru_razmestitrekl\" class=\"link link_gray_yes business__link\">Директ</a>&#160;&#8212;&#160;<a href=\"https://direct.yandex.ru/?from=maintest_ru_razmestitrekl\" class=\"link link_gray_yes business__sublink\">разместить рекламу</a><a href=\"https://metrika.yandex.ru/?utm_source=yandexru.v14&utm_medium=web&utm_campaign=static\" class=\"link link_gray_yes business__link\">Метрика</a><a href=\"https://advertising.yandex.ru/?from=main_bottom\" class=\"link link_gray_yes business__link\">Реклама</a></div></div><div class=\"col foot__company-links company-links\"><div><a href=\"https://yandex.ru/support/\" class=\"link link_gray_yes company-links__item company-links__help\" title=\"Помощь\"><i class=\"b-ico b-ico-help\"></i><i class=\"b-ico b-ico-help b-ico_hover\"></i></a><a href=\"https://feedback2.yandex.ru/default/\" class=\"link link_gray_yes company-links__item company-links__feedback\" title=\"Служба поддержки\"><i class=\"b-ico b-ico-feedback\"></i><i class=\"b-ico b-ico-feedback b-ico_hover\"></i></a><a href=\"https://yandex.ru/jobs\" class=\"link link_gray_yes company-links__item\">Вакансии</a><a href=\"https://blog.yandex.ru\" class=\"link link_gray_yes company-links__item\">Блог</a><a href=\"https://yandex.ru/company/\" class=\"link link_gray_yes company-links__item\">Компания</a><a href=\"https://company.yandex.com/\" class=\"link link_gray_yes company-links__item\">About</a>&copy;&#160;Яндекс</div></div></div></div></div></div></div><script src=\"//yastatic.net/jquery/1.8.3/jquery.min.js\"></script><script src=\"//yastatic.net/www/2.659/white/pages/bender/_bender.ru.js\"></script><script>BEM.DOM.scope=$('body');Lego.init({\"locale\":\"ru\",\"mailHost\":\"https://mail.yandex.ru\",\"msid\":\"22889.31337.1453851372.95901\",\"mda-auth-url\":\"https://www.yandex.ru/y/?retdom=ru&sk=ydf9c425dd54c69b57e4d3057f168a2a2&ww=1&empty=1\",\"xivaUrl\":\"portal-xiva.yandex.net\",\"social-host\":\"https://social.yandex.ru\",\"social-retpath\":\"https://www.yandex.ru/i-social__closer.html\",\"social-providers\":\"[{\\\"primary\\\":1,\\\"id\\\":\\\"1\\\",\\\"display_name\\\":\\\"ВКонтакте\\\",\\\"code\\\":\\\"vk\\\",\\\"enabled\\\":1},{\\\"primary\\\":1,\\\"id\\\":\\\"2\\\",\\\"display_name\\\":\\\"Facebook\\\",\\\"code\\\":\\\"fb\\\",\\\"enabled\\\":1},{\\\"primary\\\":1,\\\"id\\\":\\\"3\\\",\\\"display_name\\\":\\\"Twitter\\\",\\\"code\\\":\\\"tw\\\",\\\"enabled\\\":1},{\\\"primary\\\":0,\\\"id\\\":\\\"4\\\",\\\"display_name\\\":\\\"Mail.ru\\\",\\\"code\\\":\\\"mr\\\",\\\"enabled\\\":1},{\\\"primary\\\":0,\\\"id\\\":\\\"5\\\",\\\"display_name\\\":\\\"Google\\\",\\\"code\\\":\\\"gg\\\",\\\"enabled\\\":1},{\\\"primary\\\":0,\\\"id\\\":\\\"6\\\",\\\"display_name\\\":\\\"Одноклассники\\\",\\\"code\\\":\\\"ok\\\",\\\"enabled\\\":1}]\",\"social-sprites\":{\"16\":\"//yastatic.net/social/current/sprites/ico-16.png\"},\"lego-static-host\":\"//yastatic.net/lego/2.10-169/\",\"retpath\":\"https://mail.yandex.ru\",\"statRoot\":\"\",\"statEnabled\":false,\"distStat\":1,\"click-host\":\"yandex.ru/clck\",\"click-href\":\"https://yandex.ru/clck/\",\"keyboard-path\":\"//yastatic.net/www/2.659/common/blocks/\"});BEM.DOM.init();</script><script>getcss('//yastatic.net/www/_/c/c/ABBrTy3d0ZllKYfI6dgrF1yvQ.css');</script><noscript><link type=\"text/css\" rel=\"stylesheet\" href=\"//yastatic.net/www/_/c/c/ABBrTy3d0ZllKYfI6dgrF1yvQ.css\"></noscript><script>window.home=window.home||{};window.home['export']={\"timing\":{\"data\":{\"vars\":{\"143\":\"28.15.899\",\"287\":\"213\",\"1961\":0,\"1964\":0,\"1965\":0},\"reqid\":\"22889.31337.1453851372.95901\"}},\"i-yandexuid\":{\"data\":{\"cb_url\":\"https://www.yandex.ru/jcb/lsychk/?rz=ru&sk=ydf9c425dd54c69b57e4d3057f168a2a2\",\"ls\":{\"value\":\"v1.0_6902742881453851372:1453851372\",\"key\":\"yandexuid\"},\"prefix\":\"v1.0_\"}},\"i-mda-auth\":{\"url\":\"https://www.yandex.ru/y/?retdom=ru&sk=ydf9c425dd54c69b57e4d3057f168a2a2&ww=1&empty=1\"},\"consistency\":{\"data\":{\"type\":\"html\",\"content\":\"big\",\"timeout\":7099.133864045143,\"custom\":{},\"url\":\"https://www.yandex.ru/y/?retdom=ru&sk=ydf9c425dd54c69b57e4d3057f168a2a2&csc=1&empty=1\",\"all\":true}},\"szm\":{\"data\":{\"url\":\"https://www.yandex.ru/y/?retdom=ru&sk=ydf9c425dd54c69b57e4d3057f168a2a2&empty=1&szm=\",\"timeout\":2000}},\"datetime\":{\"data\":{\"monthArr\":[\"января\",\"февраля\",\"марта\",\"апреля\",\"мая\",\"июня\",\"июля\",\"августа\",\"сентября\",\"октября\",\"ноября\",\"декабря\"],\"monthShortArr\":[\"янв.\",\"февр.\",\"марта\",\"апр.\",\"мая\",\"июня\",\"июля\",\"авг.\",\"сент.\",\"окт.\",\"нояб.\",\"дек.\"],\"weekArr\":[\"воскресенье\",\"понедельник\",\"вторник\",\"среда\",\"четверг\",\"пятница\",\"суббота\"],\"template\":\"<span class=\\\"datetime__date\\\"><span class=\\\"datetime__day\\\">[% day %] </span><span class=\\\"datetime__month\\\">[% month %], </span><span class=\\\"datetime__wday\\\">[% wday %] </span></span>\"}},\"i-bannerid\":{\"csl\":\"https://www.yandex.ru/y/?retdom=ru&sk=ydf9c425dd54c69b57e4d3057f168a2a2&empty=1&bnrd=%s\"},\"b-rss\":{\"linkTheme\":\"link link_black_yes\"},\"inline-stocks\":{\"xivas\":[{\"ch\":\"XDATA.stocks_2002_10000\",\"ts\":1453841032},{\"ch\":\"XDATA.stocks_2000_10000\",\"ts\":1453841033},{\"ch\":\"XDATA.stocks_1006_10000\",\"ts\":1453848300}],\"alts\":{\"1006\":\"цена на %d\",\"2000\":\"курс ММВБ на %d\",\"2002\":\"курс ММВБ на %d\"}},\"b-time-banner\":{\"data\":{\"empty\":true}}};</script><script>;window.mordaCookieCopy=1;</script><script>$(function(){if(!home.disabledLS&&home&&home.getData){var a=home.localStorage,e=home.getData(\"i-yandexuid.data\")||{},t=function(a){return a.split(\":\")[0]},l=function(a){var e=document.cookie.match(new RegExp(a+\"=(\\\\d+)\"));return e&&e[1]},s=e.cb_url,o=function(e){if(e.ls){var o=\"yandexuid\"===e.ls.key?\"yu\":e.ls.key,u=e.ls.value,n=a.getItem(o)||null,d=l(e.ls.key);if(n&&e.prefix+d!==t(n)||e.ls.force||!d){var i=e.ls;i.old=d,e.ls.force||(i.value=n),$.ajax({url:s,data:i,type:\"POST\",dataType:\"json\",crossDomain:!0,xhrFields:{withCredentials:!0},success:function(e){e.jsmda_url&&BEM&&BEM.blocks&&BEM.blocks[\"i-mda-auth\"]&&(window.Lego||(window.Lego={params:{}}),Lego.params[\"mda-auth-url\"]=e.jsmda_url,BEM.blocks[\"i-mda-auth\"].authenticate()),e.clean_ls&&a.setItem(o,\"\"),e.update_ls&&a.setItem(o,u)}})}else a.setItem(o,u)}};!e.ls&&e.ls_data_url?$.ajax({dataType:\"jsonp\",url:e.ls_data_url}).then(function(a){e.ls=a,o(e)}):o(e)}});</script><script>BEM && BEM.blocks['i-mda-auth'] && BEM.blocks['i-mda-auth'].authenticate(function(){});</script><script>setTimeout(function(){var bannerData = {\"width\":728,\"ad_place\":1,\"iframe_src\":\"https://awaps.yandex.net/0/c1/tx21lszVAoU5Fo8Pyi8d5ux6PrG3qpJVKk9Qhfk3tTdGm5lYqEVaX7vCZVGyb_tCP-BM-onWroOQ9Rm+nXTME3ee-hxGJQr0nwM7ZCgUciU4cxtrnXHrbBw4vfQ_tToYrx0X9tpP+r6Cl0odIegc5mQI2Z2kYVLu+dm6TFZKMwKfAgVLOLps4tc9I_t65wqs-iI93Ia70ag2ftEbq17x0hG4eCYg8SYJhYVvqf9Sh8z0DoMzkU7i2y3_tnuqCfJg9fgCiBsRF0vGShqw5KBmxBLsHkL3hHumvZdtpGPvzi5UcDrHh-8US_tpeZO+HMj2rLNKgygoi3pfNb9Nzt1EDNRbkcfndlhnbx3mpdiAhJw5dFqge-c_Kc5hYOBTRhZlphgAA_A_.htm\",\"height\":90,\"ad_nmb\":2051058,\"json\":{},\"content_type\":\"text/html\",\"html\":\"\\u003ciframe src=\\\"https://awaps.yandex.net/0/c1/tx21lszVAoU5Fo8Pyi8d5ux6PrG3qpJVKk9Qhfk3tTdGm5lYqEVaX7vCZVGyb_tCP-BM-onWroOQ9Rm+nXTME3ee-hxGJQr0nwM7ZCgUciU4cxtrnXHrbBw4vfQ_tToYrx0X9tpP+r6Cl0odIegc5mQI2Z2kYVLu+dm6TFZKMwKfAgVLOLps4tc9I_t65wqs-iI93Ia70ag2ftEbq17x0hG4eCYg8SYJhYVvqf9Sh8z0DoMzkU7i2y3_tnuqCfJg9fgCiBsRF0vGShqw5KBmxBLsHkL3hHumvZdtpGPvzi5UcDrHh-8US_tpeZO+HMj2rLNKgygoi3pfNb9Nzt1EDNRbkcfndlhnbx3mpdiAhJw5dFqge-c_Kc5hYOBTRhZlphgAA_A_.htm\\\" frameborder=\\\"0\\\" marginwidth=\\\"0\\\" marginheight=\\\"0\\\" scrolling=\\\"no\\\"  width=\\\"728\\\" height=\\\"90\\\"\\u003e\\u003c/iframe\\u003e\",\"xml\":\"\",\"js\":\"\",\"ad_type\":\"banner\",\"ad_ext\":\"htm\"};var bannerElem = $(\"#bc\");bannerElem.before(AwapsJsonAPI.Json.prototype.getHTML(bannerData));AwapsJsonAPI.Json.prototype.expand(bannerData)}, 100);</script><div style=\"display:none\" class=\"page-info\">{\"static\":\"2.659\",\"skins\":\"1.173\"}</div><span data-xapp=\"statlogger\" data-showid=\"22889.31337.1453851372.95901\" data-enabled=\"false\" data-statroot=\"\" data-redirhost=\"https://yandex.ru/clck/\" data-clckhost=\"https://yandex.ru/clck/\"></span><script src=\"https://mc.yandex.ru/metrika/watch.js\" type=\"text/javascript\"></script><script type=\"text/javascript\">(function(w){try{w['yaCounter722545']=new Ya.Metrika({\"id\":722545,\"accurateTrackBounce\":10000,\"trackLinks\":true});if (!w['defaultMetrikaCounter']) {w['defaultMetrikaCounter']=w['yaCounter722545']}}catch(e){}})(window)</script><noscript><div><img src=\"https://mc.yandex.ru/watch/722545\" style=\"position:absolute; left:-9999px;\" alt=\"\"/></div></noscript><img src=\"https://yabs.yandex.ru/count/35Y6MjWVBb040000gOA0ZhmkW6e5KP6yq4ba1fE53Qxr4C-Tf2P5AWN1__________yFVmG0=udg5dAcYW00WbGAR1cbQYh0SKcO4fQBQR0I8kjGX1mUcX0cn0RAW0002nOyFql__________3zF__________mzz1m00=TTcakQcYW00WbGgR0MsEYhKygdm3fQlt1WM8jsKY1mUcX0cn0RAW0002nOyFql__________3zF__________mzz1m00?wmode=0\" style=\"display:none; position:absolute;\" /><noscript class=\"i-flashcookie i-flashcookie_type_inline g-js\" onclick=\"return {name:'i-flashcookie'}\"><span style=\"background:url(//kiks.yandex.ru/fu/) no-repeat;\"></span></noscript><i class=\"b-counter\" style=\"background: url(//www.tns-counter.ru/V13a**b31b725795a42226025c868ee150f2df**yandex_ru/ru/CP1251/tmsec=yandex_main/0);\"></i><!--i28.wfront.yandex.net--></body></html>\n"
     ]
    }
   ],
   "source": [
    "conn = urlopen('https://yandex.ru')\n",
    "html = conn.read()\n",
    "print html"
   ]
  },
  {
   "cell_type": "markdown",
   "metadata": {
    "collapsed": false
   },
   "source": [
    "Для анализа страниц будем использовать HTMLParser, но об этом в следующий раз."
   ]
  },
  {
   "cell_type": "markdown",
   "metadata": {},
   "source": [
    "#4.3 Список друзей Вконтакте"
   ]
  },
  {
   "cell_type": "markdown",
   "metadata": {
    "collapsed": false
   },
   "source": [
    "Решим следующую задачу. Нам сообщают id пользователя vk, мы должны вывести список его друзей с именами и фамилиями."
   ]
  },
  {
   "cell_type": "markdown",
   "metadata": {
    "collapsed": false
   },
   "source": [
    "Для решения задачи будем использовать метод friends.get из API vk. Он позволяет получить список id друзей данного пользователя."
   ]
  },
  {
   "cell_type": "code",
   "execution_count": 8,
   "metadata": {
    "collapsed": false
   },
   "outputs": [],
   "source": [
    "def get_friends(user_id):\n",
    "    url = 'https://api.vk.com/method/friends.get?user_id='+str(user_id)\n",
    "    conn = urlopen(url)\n",
    "    json = conn.read()\n",
    "    left, right = json.index('['), json.index(']')\n",
    "    json = json[left+1:right]\n",
    "    return json.split(',')"
   ]
  },
  {
   "cell_type": "code",
   "execution_count": 9,
   "metadata": {
    "collapsed": false,
    "scrolled": false
   },
   "outputs": [
    {
     "data": {
      "text/plain": [
       "['132777',\n",
       " '877126',\n",
       " '1253954',\n",
       " '2361256',\n",
       " '2444122',\n",
       " '2650571',\n",
       " '3760765',\n",
       " '3792892',\n",
       " '4381467',\n",
       " '6154817',\n",
       " '6262467',\n",
       " '7767376',\n",
       " '8148852',\n",
       " '8356804',\n",
       " '9347511',\n",
       " '10024389',\n",
       " '11278871',\n",
       " '11311268',\n",
       " '13230265',\n",
       " '15636824',\n",
       " '17336757',\n",
       " '20323165',\n",
       " '21916947',\n",
       " '26652898',\n",
       " '30600789',\n",
       " '33942184',\n",
       " '34547966',\n",
       " '37929038',\n",
       " '40387185',\n",
       " '48302734',\n",
       " '48675527',\n",
       " '49535587',\n",
       " '50559543',\n",
       " '53678906',\n",
       " '56361355',\n",
       " '57272392',\n",
       " '58671810',\n",
       " '62771727',\n",
       " '63487795',\n",
       " '64277024',\n",
       " '64415673',\n",
       " '66439801',\n",
       " '71088604',\n",
       " '71296522',\n",
       " '74442553',\n",
       " '75551095',\n",
       " '76018367',\n",
       " '77962993',\n",
       " '78372840',\n",
       " '78613044',\n",
       " '82890342',\n",
       " '83562177',\n",
       " '83568283',\n",
       " '83664996',\n",
       " '83770636',\n",
       " '83819817',\n",
       " '84111715',\n",
       " '85797875',\n",
       " '88730812',\n",
       " '90493463',\n",
       " '91471404',\n",
       " '93685802',\n",
       " '94269870',\n",
       " '95235394',\n",
       " '96016778',\n",
       " '96728987',\n",
       " '97027418',\n",
       " '98477408',\n",
       " '105234215',\n",
       " '108674602',\n",
       " '108756440',\n",
       " '110335478',\n",
       " '116715458',\n",
       " '117181134',\n",
       " '122467469',\n",
       " '125431175',\n",
       " '125876072',\n",
       " '131353860',\n",
       " '133492200',\n",
       " '133531323',\n",
       " '134127005',\n",
       " '134199614',\n",
       " '134580815',\n",
       " '135275206',\n",
       " '136176955',\n",
       " '138202186',\n",
       " '138691276',\n",
       " '139812712',\n",
       " '142138438',\n",
       " '145050550',\n",
       " '145603534',\n",
       " '146509541',\n",
       " '148144206',\n",
       " '148910228',\n",
       " '149077877',\n",
       " '151470976',\n",
       " '152442419',\n",
       " '155340863',\n",
       " '157300899',\n",
       " '157436281',\n",
       " '157827586',\n",
       " '161048247',\n",
       " '161357309',\n",
       " '162459434',\n",
       " '162886357',\n",
       " '163918027',\n",
       " '167473543',\n",
       " '167731907',\n",
       " '170900141',\n",
       " '171454323',\n",
       " '174487649',\n",
       " '176863740',\n",
       " '179809219',\n",
       " '187246361',\n",
       " '193929963',\n",
       " '200604306',\n",
       " '205457314',\n",
       " '213390912',\n",
       " '215075801',\n",
       " '222485870',\n",
       " '224791675',\n",
       " '224833854',\n",
       " '228382623',\n",
       " '228550804',\n",
       " '232091520',\n",
       " '235511230',\n",
       " '236876126',\n",
       " '238354081',\n",
       " '238565293',\n",
       " '255650567',\n",
       " '259321642',\n",
       " '271474695',\n",
       " '287694680',\n",
       " '294000091',\n",
       " '301229093']"
      ]
     },
     "execution_count": 9,
     "metadata": {},
     "output_type": "execute_result"
    }
   ],
   "source": [
    "get_friends(77393314)"
   ]
  },
  {
   "cell_type": "markdown",
   "metadata": {
    "collapsed": false,
    "scrolled": false
   },
   "source": [
    "Более менее ясно, что html странички всех пользователей vk выглядят примерно одинаково. Посмотрим на одну из них:\n",
    "\n"
   ]
  },
  {
   "cell_type": "code",
   "execution_count": 10,
   "metadata": {
    "collapsed": false,
    "scrolled": false
   },
   "outputs": [
    {
     "name": "stdout",
     "output_type": "stream",
     "text": [
      "<?xml version=\"1.0\" encoding=\"utf-8\"?>\n",
      "<!DOCTYPE html PUBLIC \"-//WAPFORUM//DTD XHTML Mobile 1.0//EN\" \"http://www.wapforum.org/DTD/xhtml-mobile10.dtd\">\n",
      "<html xmlns=\"http://www.w3.org/1999/xhtml\" >\n",
      "<head>\n",
      "<meta name=\"viewport\" content=\"width=device-width, initial-scale=1.0, minimum-scale=1.0, maximum-scale=1.0, user-scalable=yes\" />\n",
      "<meta http-equiv=\"content-type\" content=\"text/html; charset=utf-8\" />\n",
      "<meta name=\"format-detection\" content=\"telephone=no\" />\n",
      "<meta http-equiv=\"X-UA-Compatible\" content=\"IE=edge\" />\n",
      "<meta name=\"MobileOptimized\" content=\"176\" />\n",
      "<meta name=\"HandheldFriendly\" content=\"True\" />\n",
      "<base id=\"base\">\n",
      "<meta name=\"robots\" content=\"noindex,nofollow\" />\n",
      "<title>Артём Шеремет</title>\n",
      "<script type=\"text/javascript\">\n",
      "<!--\n",
      "(function(k,a,d,e,f){function l(){var c=function(){var b=!1;try{b=new XMLHttpRequest}catch(a){try{b=new ActiveXObject(\"Msxml2.XMLHTTP\")}catch(d){try{b=new ActiveXObject(\"Microsoft.XMLHTTP\")}catch(c){b=!1}}}return b?e:f}(),g=function(){var b=k.createElement(\"div\");b.innerHTML='<input type=\"file\" />';b=b.getElementsByTagName(\"input\")[0];return\"file\"!=b.type||b.disabled?f:e}(),h=\"ontouchstart\"in a?e:f,m;try{m=typeof navigator.geolocation!==d?e:typeof a.google!==d&&typeof google.gears!==d?e:typeof device!==d&&typeof device.getServiceObject!==d?e:typeof Mojo!==d&&\"Mojo.Service.Request\"!==typeof Mojo.Service.Request?e:f}catch(p){m=f}var l=function(b){try{var d=a.Audio?new Audio:k.createElement(\"audio\");if(d.canPlayType&&d.canPlayType(b)&&\"no\"!=d.canPlayType(b))return e}catch(c){}return f}(\"audio/mpeg\"),n=function(b){try{for(var a=k.createElement(\"div\"),c=0,g=[\"webkit\",\"Moz\",\"ms\",\"O\",\"\"],h=g.length;c<h;c++){var l=g[c],m=l?l+b:b.toLowerCase();if(typeof a.style[m]!==d)return e}return f}catch(n){return f}}(\"Transform\");return c+g+h+m+l+n+((a.XMLHttpRequest||a.XDomainRequest)&&(a.FormData||a.FileReader&&(a.XMLHttpRequest&&XMLHttpRequest.sendAsBinary||a.ArrayBuffer&&a.Uint8Array&&(a.MozBlobBuilder||a.WebKitBlobBuilder||a.BlobBuilder)))?e:f)}var c=a.screen,g=c.width||0,c=c.height||0,n=a.devicePixelRatio||1,p=(k.cookie.match(/(^|;\\s+)remixmdevice=([^;]+)/)||[])[2]||\"\",h=p.split(\"/\");p&&g==h[0]&&c==h[1]&&7==h[3].length||(g=[g,c,n,l()].join(\"/\"),k.cookie=\"remixmdevice=; expires=\"+(new Date(0)).toUTCString()+\"; path=/\",k.cookie=\"remixmdevice=\"+g+\"; expires=\"+(new Date((new Date).getTime()+7776E6)).toUTCString()+\"; path=/; domain=.vk.com\",location.replace(location.toString()))})(document,window,\"undefined\",\"!\",\"-\");(function(a,d){var c=a.hash||\"\",b=c.substr(2);\"#/\"==c.substr(0,2)&&!d&&(b.match(/^\\/*(away|login)(\\.php)?([^a-z0-9\\.]|$)/)&&(b=\"\"),a.replace(a.protocol+\"//\"+a.host+\"/\"+b))})(location);\n",
      "//-->\n",
      "</script>\n",
      "<link type=\"text/css\" rel=\"stylesheet\" href=\"/css/s_c.css?183\"></link>\n",
      "<link type=\"text/css\" rel=\"stylesheet\" media=\"only screen\" href=\"/css/s_yzg.css?161\"></link>\n",
      "<link rel=\"shortcut icon\" href=\"/images/faviconnew.ico?3\"></link>\n",
      "<link rel=\"canonical\" href=\"https://vk.com/id77393314\"></link><link rel=\"alternate\" href=\"android-app://com.vkontakte.android/vkontakte/m.vk.com/id77393314\" />\n",
      "</head>\n",
      "<body id=\"vk\" class=\"_hover\">\n",
      "<div id=\"vk_utils\"></div>\n",
      "<div id=\"vk_head\" class=\"mhead\">\n",
      "<div class=\"hb_wrap\"><div class=\"hb_btn\">&nbsp;</div></div>\n",
      "</div>\n",
      "<div id=\"vk_wrap\">\n",
      "<div id=\"l\"></div>\n",
      "<div id=\"m\"><div id=\"mhead\" class=\"mhead\"><a href=\"/\" accesskey=\"*\" class=\"hb_wrap mhb_home mhb_vkhome\">\n",
      "<div class=\"hb_btn mhi_home mhi_vkhome\">&nbsp;</div>\n",
      "</a>\n",
      "<a href=\"/login?to=aWQ3NzM5MzMxNA--\" class=\"hb_wrap mhb_notify\" accesskey=\"#\">\n",
      "<div class=\"hb_btn\">\n",
      "<em class=\"mh_btn_label\">войти</em>\n",
      "</div>\n",
      "</a>\n",
      "<div class=\"hb_wrap mhb_back al_back\"><h1 class=\"hb_btn mh_header\">Артём</h1></div></div>\n",
      "<div id=\"mcont\" class=\"mcont\"><div class=\"pcont fit_box\">\n",
      "<div class=\"owner_panel profile_panel\">\n",
      "<a href=\"/photo77393314_277353710?rev=1&from=profile\"><img src=\"https://pp.vk.me/c10410/u77393314/d_61cb7aa4.jpg\" class=\"pp_img\" alt=\"Артём Шеремет\" style=\"background-image:url(https://pp.vk.me/c10410/u77393314/e_ccd31b25.jpg)\" /></a>\n",
      "<div class=\"pp_cont\">\n",
      "<h2 class=\"op_header\">Артём Шеремет</h2>\n",
      "<div class=\"pp_last_activity\">заходил 25 минут назад<b class=\"lvi mlvi\"></b></div>\n",
      "<div class=\"pp_info\">16 лет, Домодедово</div>\n",
      "</div>\n",
      "<div class=\"op_block\"><a class=\"wide_link pp_auth_link\" href=\"/login?to=d3JpdGU3NzM5MzMxNA--\">Чтобы отправить сообщение <span class=\"pp_auth_link_a\">Артёму</span>, Вам необходимо <b>войти</b>.</a></div>\n",
      "</div>\n",
      "<div class=\"ipanel bl_cont\">\n",
      "<div class=\"profile_info\"><h4 class=\"slim_header\">Информация</h4><div class=\"profile_info_cont\"><div><dl class=\"pinfo_row _pinfo\"><dt>День рождения:</dt><dd>4 июня 1999 г.</dd></dl></div></div></div><a name=\"menu\"></a><div class=\"profile_info\"><h4 class=\"slim_header\">Другое</h4><div class=\"profile_info_cont profile_info_custom\"><ul class=\"profile_menu\">\n",
      "<li><a href=\"/albums77393314\" class=\"pm_item\">Фотографии <em class=\"pm_counter\">32</em></a></li><li><a href=\"/videos77393314\" class=\"pm_item\">Видеозаписи <em class=\"pm_counter\">79</em></a></li><li><a href=\"/id77393314?act=idols\" class=\"pm_item\">Интересные страницы <em class=\"pm_counter\">32</em></a></li><li><a href=\"/id77393314?menu_opened#menu\" class=\"pm_item\" onclick=\"this.parentNode.parentNode.nextSibling.style.display='block';this.parentNode.style.display='none';return false;\">Ещё..</a></li>\n",
      "</ul><ul class=\"profile_menu\" style=\"display:none\">\n",
      "<li><a href=\"/id77393314?act=fans\" class=\"pm_item\">Подписчики <em class=\"pm_counter\">236</em></a></li><li><a name=\"actions\"></a><div class=\"profile_info\"><h4 class=\"slim_header\">Действия</h4><div class=\"profile_info_cont profile_info_custom\"><ul class=\"context_menu\">\n",
      "<li><a href=\"/id77393314?search=1\" class=\"cm_item bli\"><span class=\"cm_label\">Поиск по записям</span></a></li>\n",
      "</ul></div></div></li>\n",
      "</ul></div></div>\n",
      "<a name=\"wall\"></a>\n",
      "<h4 class=\"slim_header\">68 записей</h4>\n",
      "<a name=\"posts\"></a>\n",
      "<div class=\"wall_posts upanel bl_cont\">\n",
      "<div class=\"wall_item\" data-copy=\"-64613445_135494\">\n",
      "<a name=\"post77393314_2343\" class=\"anchor\"></a>\n",
      "<div class=\"wi_head\">\n",
      "<a href=\"/id77393314\"><img src=\"https://pp.vk.me/c10410/u77393314/e_ccd31b25.jpg\" class=\"wi_img\" /></a>\n",
      "<div class=\"wi_cont\">\n",
      "<div class=\"wi_author\"><a class=\"pi_author\" href=\"/id77393314\">Артём Шеремет</a> </div>\n",
      "<div class=\"wi_info\"><a class=\"wi_date\" href=\"/wall77393314_2343\">сегодня в 1:28</a></div>\n",
      "</div>\n",
      "</div>\n",
      "<div class=\"wi_body\">\n",
      "<div class=\"pic_body_wrap\">\n",
      "<div class=\"pic_body\">\n",
      "<div class=\"pic_header\">\n",
      "<a href=\"/lfc_officialnews\"><img src=\"https://pp.vk.me/c607930/v607930285/1553/ePfr3GyIWSg.jpg\" class=\"pic_img\" /></a>\n",
      "<div class=\"pic_cont\">\n",
      "<div class=\"pic_from\"><span></span><i class=\"i_copy\"></i><a class=\"pi_author\" href=\"/lfc_officialnews\">Liverpool | Ливерпуль</a> </div>\n",
      "<div class=\"pic_desc\"><a class=\"pic_desc_a\" href=\"/wall-64613445_135494\">сегодня в 1:27</a></div>\n",
      "</div>\n",
      "</div>\n",
      "</div>\n",
      "<div class=\"pi_text\">МЫ В ФИНАЛЕ&#33;</div>\n",
      "<div class=\"pi_medias thumbs_list thumbs_list1\"><div class=\"medias_thumbs\"><a class=\"medias_thumb thumb_item al_photo\" href=\"/photo-64613445_398787738?list=wall77393314_2343&from=profile\"><img src=\"https://cs7063.vk.me/c629122/v629122173/2f089/JAG9p82uqWg.jpg\" class=\"ph_img\" data-id=\"-64613445_398787738\" data-src_big=\"https://cs7063.vk.me/c629122/v629122173/2f08a/dhn1gfkCd54.jpg|594|385\" /></a></div><div class=\"medias_row\">\n",
      "<span class=\"mr_label medias_link medias_audio\">\n",
      "<span class=\"medias_link_icon\"><i class=\"i_icon i_audio\"></i></span>\n",
      "<span class=\"medias_audio_dur\">2:41</span>\n",
      "<span class=\"medias_audio_artist\"> Gerry &amp; The Pacemakers</span><span class=\"medias_audio_title\"><span class=\"divider\"> &ndash; </span>You&#39;ll Never Walk Alone<span class=\"medias_audio_dur\">(2:41)</span></span></span>\n",
      "</div></div>\n",
      "<div class=\"pi_signed\">\n",
      "<span></span><i class=\"i_signed\"></i><a class=\"user\" href=\"/lfcsuarez\">Эдуард Димов</a>\n",
      "</div>\n",
      "</div>\n",
      "<div class=\"wi_buttons\"><span class=\"like_wrap\"><a class=\"item_like _i\" href=\"/like?act=add&object=wall77393314_2343&from=id77393314&hash=e41ba284c0d3d52b05&wide=1\"><i class=\"i_like\"></i><b class=\"v_like\">1</b></a><a class=\"item_share _i\" href=\"/like?act=publish&object=wall77393314_2343&from=id77393314\"><i class=\"i_share\"></i></a></span></div>\n",
      "</div>\n",
      "</div><div class=\"wall_item\" data-copy=\"-23693281_5160046\">\n",
      "<a name=\"post77393314_2342\" class=\"anchor\"></a>\n",
      "<div class=\"wi_head\">\n",
      "<a href=\"/id77393314\"><img src=\"https://pp.vk.me/c10410/u77393314/e_ccd31b25.jpg\" class=\"wi_img\" /></a>\n",
      "<div class=\"wi_cont\">\n",
      "<div class=\"wi_author\"><a class=\"pi_author\" href=\"/id77393314\">Артём Шеремет</a> </div>\n",
      "<div class=\"wi_info\"><a class=\"wi_date\" href=\"/wall77393314_2342\">23 янв в 17:40</a></div>\n",
      "</div>\n",
      "</div>\n",
      "<div class=\"wi_body\">\n",
      "<div class=\"pi_text\">Ух <img class=\"emoji\" alt=\"😱\" src=\"/images/emoji/D83DDE31.png\"><img class=\"emoji\" alt=\"😻\" src=\"/images/emoji/D83DDE3B.png\"><img class=\"emoji\" alt=\"🔥\" src=\"/images/emoji/D83DDD25.png\"></div>\n",
      "<div class=\"pic_body_wrap\">\n",
      "<div class=\"pic_body_full\">\n",
      "<div class=\"pic_header\">\n",
      "<a href=\"/uefanews\"><img src=\"https://pp.vk.me/c625124/v625124168/3f51f/x7Nk4ESR4as.jpg\" class=\"pic_img\" /></a>\n",
      "<div class=\"pic_cont\">\n",
      "<div class=\"pic_from\"><span></span><i class=\"i_copy\"></i><a class=\"pi_author\" href=\"/uefanews\">Футбол Европы: Трансферы</a> </div>\n",
      "<div class=\"pic_desc\"><a class=\"pic_desc_a\" href=\"/wall-23693281_5160046\">23 янв в 17:38</a></div>\n",
      "</div>\n",
      "</div>\n",
      "<div class=\"pi_text\">«Ливерпуль» одерживает фантастическую победу в Норидже <br/><br/>Англия - Премьер-лига. 23-й тур <br/><br/>«Норвич Сити» - «Ливерпуль» - 4:5<br/>Голы: Фирмино `18; Мбокани `29; Нейсмит `41; Хулахан (пен) `54; Хендерсон `55; Фирмино `63; Милнер `75; Бассонг `93; Лаллана `90+5.</div>\n",
      "<div class=\"pi_medias thumbs_list thumbs_list1\"><div class=\"medias_thumbs\"><a class=\"medias_thumb thumb_item al_photo\" href=\"/photo-23693281_400994808?list=wall77393314_2342&from=profile\"><img src=\"https://pp.vk.me/c543109/v543109283/5f87/F9rRosEO6ek.jpg\" class=\"ph_img\" data-id=\"-23693281_400994808\" data-src_big=\"https://pp.vk.me/c543109/v543109283/5f88/ftIz0QnelLw.jpg|600|471\" /></a></div></div>\n",
      "<div class=\"pi_signed\">\n",
      "<span></span><i class=\"i_signed\"></i><a class=\"user\" href=\"/olshmax\">Максим Ольшанский</a>\n",
      "</div>\n",
      "</div>\n",
      "</div>\n",
      "<div class=\"wi_buttons\"><span class=\"like_wrap\"><a class=\"item_like _i\" href=\"/like?act=add&object=wall77393314_2342&from=id77393314&hash=fe7280735c565aed4e&wide=1\"><i class=\"i_like\"></i><b class=\"v_like\">3</b></a><a class=\"item_share _i\" href=\"/like?act=publish&object=wall77393314_2342&from=id77393314\"><i class=\"i_share\"></i></a></span></div>\n",
      "</div>\n",
      "</div><div class=\"wall_item\" data-copy=\"-64613445_120198\">\n",
      "<a name=\"post77393314_2341\" class=\"anchor\"></a>\n",
      "<div class=\"wi_head\">\n",
      "<a href=\"/id77393314\"><img src=\"https://pp.vk.me/c10410/u77393314/e_ccd31b25.jpg\" class=\"wi_img\" /></a>\n",
      "<div class=\"wi_cont\">\n",
      "<div class=\"wi_author\"><a class=\"pi_author\" href=\"/id77393314\">Артём Шеремет</a> </div>\n",
      "<div class=\"wi_info\"><a class=\"wi_date\" href=\"/wall77393314_2341\">21 ноя в 22:21</a></div>\n",
      "</div>\n",
      "</div>\n",
      "<div class=\"wi_body\">\n",
      "<div class=\"pi_text\"><img class=\"emoji\" alt=\"😻\" src=\"/images/emoji/D83DDE3B.png\"><img class=\"emoji\" alt=\"😻\" src=\"/images/emoji/D83DDE3B.png\"><img class=\"emoji\" alt=\"😻\" src=\"/images/emoji/D83DDE3B.png\"></div>\n",
      "<div class=\"pic_body_wrap\">\n",
      "<div class=\"pic_body_full\">\n",
      "<div class=\"pic_header\">\n",
      "<a href=\"/lfc_officialnews\"><img src=\"https://pp.vk.me/c607930/v607930285/1553/ePfr3GyIWSg.jpg\" class=\"pic_img\" /></a>\n",
      "<div class=\"pic_cont\">\n",
      "<div class=\"pic_from\"><span></span><i class=\"i_copy\"></i><a class=\"pi_author\" href=\"/lfc_officialnews\">Liverpool | Ливерпуль</a> </div>\n",
      "<div class=\"pic_desc\"><a class=\"pic_desc_a\" href=\"/wall-64613445_120198\">21 ноя в 22:21</a></div>\n",
      "</div>\n",
      "</div>\n",
      "<div class=\"pi_text\">Финальный свисток&#33;<br/><br/>&quot;Манчестер Сити&quot; 1-4 &quot;Ливерпуль&quot;.<br/><br/>&quot;Ливерпуль&quot; громит &quot;Манчестер Сити&quot; в их логове. Шикарную игру показала сегодня наша команда. Отметим гол и ассист Филиппе, также гол и ассист Роберто. Точку в матче поставил Мартинатор, забив после скидки Бентеке. <br/><br/>С победой, скаузеры&#33; <a href=\"/feed?section=search&q=%23YNWA\">#YNWA</a> <a href=\"/feed?section=search&q=%23Family\">#Family</a> <a href=\"/feed?section=search&q=%23Forever\">#Forever</a></div>\n",
      "<div class=\"pi_medias thumbs_list thumbs_list1\"><div class=\"medias_thumbs\"><a class=\"medias_thumb thumb_item al_photo\" href=\"/photo-64613445_389593210?list=wall77393314_2341&from=profile\"><img src=\"https://pp.vk.me/c628417/v628417388/22899/_C6pttXyKF8.jpg\" class=\"ph_img\" data-id=\"-64613445_389593210\" data-src_big=\"https://pp.vk.me/c628417/v628417388/2289a/JY7N7eyKeEc.jpg|594|436\" /></a></div><div class=\"medias_row\">\n",
      "<span class=\"mr_label medias_link medias_audio\">\n",
      "<span class=\"medias_link_icon\"><i class=\"i_icon i_audio\"></i></span>\n",
      "<span class=\"medias_audio_dur\">2:41</span>\n",
      "<span class=\"medias_audio_artist\"> Gerry &amp; The Pacemakers</span><span class=\"medias_audio_title\"><span class=\"divider\"> &ndash; </span>You&#39;ll Never Walk Alone<span class=\"medias_audio_dur\">(2:41)</span></span></span>\n",
      "</div></div>\n",
      "<div class=\"pi_signed\">\n",
      "<span></span><i class=\"i_signed\"></i><a class=\"user\" href=\"/lfcsuarez\">Эдуард Димов</a>\n",
      "</div>\n",
      "</div>\n",
      "</div>\n",
      "<div class=\"wi_buttons\"><span class=\"like_wrap\"><a class=\"item_like _i\" href=\"/like?act=add&object=wall77393314_2341&from=id77393314&hash=94ba9d226c073947c3&wide=1\"><i class=\"i_like\"></i><b class=\"v_like\">7</b></a><a class=\"item_share _i\" href=\"/like?act=publish&object=wall77393314_2341&from=id77393314\"><i class=\"i_share\"></i></a></span></div>\n",
      "</div>\n",
      "</div><div class=\"wall_item\" data-copy=\"-25720568_7379109\">\n",
      "<a name=\"post77393314_2340\" class=\"anchor\"></a>\n",
      "<div class=\"wi_head\">\n",
      "<a href=\"/id77393314\"><img src=\"https://pp.vk.me/c10410/u77393314/e_ccd31b25.jpg\" class=\"wi_img\" /></a>\n",
      "<div class=\"wi_cont\">\n",
      "<div class=\"wi_author\"><a class=\"pi_author\" href=\"/id77393314\">Артём Шеремет</a> </div>\n",
      "<div class=\"wi_info\"><a class=\"wi_date\" href=\"/wall77393314_2340\">20 окт в 23:37</a></div>\n",
      "</div>\n",
      "</div>\n",
      "<div class=\"wi_body\">\n",
      "<div class=\"pi_text\"><img class=\"emoji\" alt=\"😻\" src=\"/images/emoji/D83DDE3B.png\"><img class=\"emoji\" alt=\"❤\" src=\"/images/emoji/2764.png\"><img class=\"emoji\" alt=\"😻\" src=\"/images/emoji/D83DDE3B.png\"></div>\n",
      "<div class=\"pic_body_wrap\">\n",
      "<div class=\"pic_body_full\">\n",
      "<div class=\"pic_header\">\n",
      "<a href=\"/barclaysnews\"><img src=\"https://pp.vk.me/c628519/v628519409/326c5/CgjFlt59-Aw.jpg\" class=\"pic_img\" /></a>\n",
      "<div class=\"pic_cont\">\n",
      "<div class=\"pic_from\"><span></span><i class=\"i_copy\"></i><a class=\"pi_author\" href=\"/barclaysnews\">Английская Премьер-Лига | АПЛ</a> </div>\n",
      "<div class=\"pic_desc\"><a class=\"pic_desc_a\" href=\"/wall-25720568_7379109\">20 окт в 23:36</a></div>\n",
      "</div>\n",
      "</div>\n",
      "<div class=\"pi_text\">&quot;Арсенал&quot; на классе обыгрывает &quot;Баварию&quot;<br/><br/>Арсенал 2-0 Бавария<br/><br/>Голы: Жиру 77&#39;, Озил 90+4&#39;</div>\n",
      "<div class=\"pi_medias thumbs_list thumbs_list1\"><div class=\"medias_thumbs\"><a class=\"medias_thumb thumb_item al_photo\" href=\"/photo-25720568_386129590?list=wall77393314_2340&from=profile\"><img src=\"https://pp.vk.me/c623128/v623128628/4b918/FtgHTGMtYQM.jpg\" class=\"ph_img\" data-id=\"-25720568_386129590\" data-src_big=\"https://pp.vk.me/c623128/v623128628/4b919/dHdc-FIWUig.jpg|604|340\" /></a></div></div>\n",
      "</div>\n",
      "</div>\n",
      "<div class=\"wi_buttons\"><span class=\"like_wrap\"><a class=\"item_like _i\" href=\"/like?act=add&object=wall77393314_2340&from=id77393314&hash=6f2ceeeebd03985867&wide=1\"><i class=\"i_like\"></i><b class=\"v_like\">3</b></a><a class=\"item_share _i\" href=\"/like?act=publish&object=wall77393314_2340&from=id77393314\"><i class=\"i_share\"></i></a></span></div>\n",
      "</div>\n",
      "</div><div class=\"wall_item\" data-copy=\"-8557580_2695740\">\n",
      "<a name=\"post77393314_2338\" class=\"anchor\"></a>\n",
      "<div class=\"wi_head\">\n",
      "<a href=\"/id77393314\"><img src=\"https://pp.vk.me/c10410/u77393314/e_ccd31b25.jpg\" class=\"wi_img\" /></a>\n",
      "<div class=\"wi_cont\">\n",
      "<div class=\"wi_author\"><a class=\"pi_author\" href=\"/id77393314\">Артём Шеремет</a> </div>\n",
      "<div class=\"wi_info\"><a class=\"wi_date\" href=\"/wall77393314_2338\">8 окт в 22:59</a></div>\n",
      "</div>\n",
      "</div>\n",
      "<div class=\"wi_body\">\n",
      "<div class=\"pic_body_wrap\">\n",
      "<div class=\"pic_body\">\n",
      "<div class=\"pic_header\">\n",
      "<a href=\"/fc_liverpool\"><img src=\"https://pp.vk.me/c633530/v633530876/13ebf/ouoP5b5Ng0g.jpg\" class=\"pic_img\" /></a>\n",
      "<div class=\"pic_cont\">\n",
      "<div class=\"pic_from\"><span></span><i class=\"i_copy\"></i><a class=\"pi_author\" href=\"/fc_liverpool\">I ♥ Liverpool FC | ФК «Ливерпуль»</a> </div>\n",
      "<div class=\"pic_desc\"><a class=\"pic_desc_a\" href=\"/wall-8557580_2695740\">8 окт в 22:58</a></div>\n",
      "</div>\n",
      "</div>\n",
      "</div>\n",
      "<div class=\"pi_text\"><a href=\"/fc_liverpool/BREAKING\">#BREAKING@fc_liverpool</a> <a href=\"/feed?section=search&q=%23LFC\">#LFC</a> <a href=\"/feed?section=search&q=%23Klopp\">#Klopp</a><br/><br/>ОФИЦИАЛЬНО: ЮРГЕН КЛОПП — ГЛАВНЫЙ ТРЕНЕР «ЛИВЕРПУЛЯ»&#33;<br/><br/>Поздравляем всех болельщиков &quot;Красных&quot;&#33; Верим, что это именно тот человек, который вернет настоящий &quot;Ливерпуль&quot;&#33;</div>\n",
      "<div class=\"pi_medias thumbs_list thumbs_list1\"><div class=\"medias_thumbs\"><a class=\"medias_thumb thumb_item al_photo\" href=\"/photo-8557580_383880477?list=wall77393314_2338&from=profile\"><img src=\"https://cs7063.vk.me/c540105/v540105876/2544e/OldwjNsMl-0.jpg\" class=\"ph_img\" data-id=\"-8557580_383880477\" data-src_big=\"https://cs7063.vk.me/c540105/v540105876/2544f/WJYP52-7qps.jpg|604|403\" /></a></div></div>\n",
      "</div>\n",
      "<div class=\"wi_buttons\"><span class=\"like_wrap\"><a class=\"item_like _i\" href=\"/like?act=add&object=wall77393314_2338&from=id77393314&hash=55d4b12fbe226bffc5&wide=1\"><i class=\"i_like\"></i><b class=\"v_like\">7</b></a><a class=\"item_share _i\" href=\"/like?act=publish&object=wall77393314_2338&from=id77393314\"><i class=\"i_share\"></i></a></span></div>\n",
      "</div>\n",
      "</div>\n",
      "<div class=\"show_more_wrap\"><a class=\"show_more\" href=\"/id77393314?offset=5&own=1#posts\">Показать ещё</a></div>\n",
      "</div>\n",
      "</div>\n",
      "</div></div>\n",
      "<div id=\"mfoot\" class=\"mfoot\"><div class=\"pfoot\">\n",
      "<ul id=\"footer_menu\" class=\"footer_menu\">\n",
      "<li class=\"fm_row\"><a class=\"fm_item\" href=\"/\">На главную</a></li>\n",
      "<li class=\"fm_row\"><a id=\"fv_link\" class=\"fm_item fv_link\" href=\"https://vk.com/id77393314?_fm=profile\">Полная версия</a></li>\n",
      "</ul>\n",
      "</div></div>\n",
      "<div class=\"_cntrs\" style=\"height:0;\">\n",
      "<img width=\"1\" height=\"1\" src=\"//counter.yadro.ru/hit?uhttps%3A%2F%2Fm.vk.com%2Fid77393314;r;49973887\" alt=\"\" align=\"left\" />\n",
      "<img width=\"1\" height=\"1\" src=\"//sb.scorecardresearch.com/p?c1=2&c2=13765216&c3=&c4=https%3A%2F%2Fm.vk.com%2Fid77393314&c5=&c9=&c15=&cv=2.0&cj=1&rn=49973887\" alt=\"\" align=\"left\" />\n",
      "<img src=\"//top-fwz1.mail.ru/counter?id=2579437;pid=0;r=\" style=\"border:0;\" height=\"1\" width=\"1\" />\n",
      "</div></div>\n",
      "<div id=\"z\"></div>\n",
      "</div>\n",
      "<div id=\"vk_bottom\"></div>\n",
      "<script type=\"text/javascript\">\n",
      "<!--\n",
      "parent&&parent!=window&&(document.getElementsByTagName('body')[0].innerHTML='');\n",
      "//-->\n",
      "</script>\n",
      "</body>\n",
      "</html>\n"
     ]
    }
   ],
   "source": [
    "conn = urlopen('https://vk.com/id'+str(77393314))\n",
    "print conn.read()"
   ]
  },
  {
   "cell_type": "markdown",
   "metadata": {
    "collapsed": true
   },
   "source": [
    "Видим, что имя пользователя заключено в <title>имя пользователя</title>"
   ]
  },
  {
   "cell_type": "code",
   "execution_count": 12,
   "metadata": {
    "collapsed": true
   },
   "outputs": [],
   "source": [
    "def nameOfUser(user_id):\n",
    "    conn = urlopen('https://vk.com/id'+str(user_id))\n",
    "    html = conn.read()\n",
    "    left, right = html.index('<title>'), html.index('</title>')\n",
    "    return html[left+len('<title>'):right]"
   ]
  },
  {
   "cell_type": "code",
   "execution_count": 15,
   "metadata": {
    "collapsed": false,
    "scrolled": false
   },
   "outputs": [],
   "source": [
    "def getInfoOfFriends(user_id):\n",
    "    info = []\n",
    "    for friend in get_friends(user_id):\n",
    "        info.append((int(friend), nameOfUser(int(friend))))\n",
    "    return info"
   ]
  },
  {
   "cell_type": "code",
   "execution_count": 20,
   "metadata": {
    "collapsed": false,
    "scrolled": false
   },
   "outputs": [
    {
     "name": "stdout",
     "output_type": "stream",
     "text": [
      "Ирина Засыпкина\n",
      "Николай Маслов\n",
      "Алена Ежлова\n",
      "Кирилл Скопцов\n",
      "Валерия Черникова\n",
      "Лена Иванова\n",
      "Ваня Решетников\n",
      "Михаил Замятнин\n",
      "Дмитрий Коробицын\n",
      "Денис Коротов\n",
      "Георгий Жуков\n",
      "Михаил Ляпин\n",
      "Дмитрий Шелаев\n",
      "Арсений Столяров\n",
      "Михаил Кузин\n",
      "Гоша Остроумов\n",
      "Егор Котов\n",
      "Екатерина Коротова\n",
      "Михаил Носков\n",
      "Игорь Романчев\n",
      "Александр Николенко\n",
      "Николай Трушников\n",
      "Даша Алиева\n",
      "Алёнка Туркова\n",
      "Александр Дор\n",
      "Мария Захарова\n",
      "Лиза Яковенко\n",
      "Ильдар Гараев\n",
      "Лейла Бурушева\n",
      "Женя Жуков\n",
      "Артём Барышников\n",
      "Женька Murchelago\n",
      "Даня Баранов\n",
      "Павел Писцов\n",
      "Мария Морозова\n",
      "Ярик Иванашев\n",
      "Екатерина Мартынова\n",
      "Никита Федорец\n",
      "Димка Волохович\n",
      "Виктория Фокина\n",
      "Артемий Вишняков\n",
      "Андрей Буюков\n",
      "Ярослава Суспицина\n",
      "Варя Перчик\n",
      "Степан Судиловский\n",
      "Roman Krivoshein\n",
      "Дмитрий Лукошкин\n",
      "Даниил Делан\n",
      "Максим Пятков\n",
      "Иван Новик\n",
      "Леша Заводов\n",
      "Всеволод Пухов\n",
      "Костя Матвеев\n",
      "Артём Воронов\n",
      "Миша Кулёв\n",
      "Маша Леонтьева\n",
      "Егор Латухин\n",
      "Анастасия Чашкова\n",
      "Денис Емельянов\n",
      "Виктория Алиакберова(силкина)\n",
      "Алексей Биршерт\n",
      "Владимир Голод\n",
      "Елизавета Шестакова\n",
      "Таня Дорожкина\n",
      "Света Кулакова\n",
      "Леонид Позднеев\n",
      "Даниил Матвеев\n",
      "Эльдар Бечелов\n",
      "Александр Шлимович\n",
      "Артём Речкин\n",
      "Максим Афонин\n",
      "Илья Богданов\n",
      "Яна Дроздова\n",
      "Константин Петько\n",
      "Егор Бабкин\n",
      "Георгий Бартенев\n",
      "Анастасия Сергеевна\n",
      "Саша Филиппов\n",
      "Даниил Филатов\n",
      "Анастасия Фёдорова\n",
      "Феликс Токарев\n",
      "Вадим Ретинский\n",
      "Игорь Спиридонов\n",
      "Вероника Артюшенко\n",
      "Андрей Власков\n",
      "Вероника Коваль\n",
      "Алексей Ноян\n",
      "Кирилл Киселев\n",
      "Дмитрий Овчинников\n",
      "Рома Ракоч\n",
      "Павел Евсеев\n",
      "Максим Кучеренко\n",
      "Егор Рябов\n",
      "Арсений Николаев\n",
      "Гриша Болдырев\n",
      "Валерия Шмидт\n",
      "Татьяна Онищенко\n",
      "Михаил Гузов\n",
      "Екатерина Богданова\n",
      "Ален Алиев\n",
      "Ева Королева\n",
      "Юрий Кульгин\n",
      "Андрей Еремушкин\n",
      "Коля Кравцун\n",
      "Данил Гейдебрехт\n",
      "Даниил Сергеев\n",
      "Александр Мирошниченко\n",
      "Саша Булдышкин\n",
      "Темиркан Ханов\n",
      "Ваня Шестаков\n",
      "Елизавета Казимирова\n",
      "Андрей Аверин\n",
      "Святослав Югай\n",
      "Алексей Глазкин\n",
      "Тима Зайцев\n",
      "Альберт Сорокин\n",
      "Дима Норкин\n",
      "Георгий Иванов\n",
      "Сергей Яковлев\n",
      "Егерь Давыдов\n",
      "Аня Золкина\n",
      "Борис Билич\n",
      "Aleksandr Avilov\n",
      "Николай Чикин\n",
      "Роман Крутовский\n",
      "Рустам Нусратуллин\n",
      "Анюта Дубовик\n",
      "Лада Баклаженко\n",
      "Анна Чернова\n",
      "Margarita Avramenok\n",
      "Ефим Смирнов\n",
      "Диана Вишнякова\n",
      "Аля Студеникина\n",
      "Enot Whynot\n",
      "Tol Saenko\n"
     ]
    }
   ],
   "source": [
    "for user_id, user_name in getInfoOfFriends(77393314):\n",
    "    print user_name"
   ]
  },
  {
   "cell_type": "code",
   "execution_count": null,
   "metadata": {
    "collapsed": true
   },
   "outputs": [],
   "source": []
  }
 ],
 "metadata": {
  "kernelspec": {
   "display_name": "Python 2",
   "language": "python",
   "name": "python2"
  },
  "language_info": {
   "codemirror_mode": {
    "name": "ipython",
    "version": 2
   },
   "file_extension": ".py",
   "mimetype": "text/x-python",
   "name": "python",
   "nbconvert_exporter": "python",
   "pygments_lexer": "ipython2",
   "version": "2.7.9"
  }
 },
 "nbformat": 4,
 "nbformat_minor": 0
}
