{
 "cells": [
  {
   "cell_type": "markdown",
   "metadata": {
    "collapsed": false
   },
   "source": [
    "# 2. Операторы, файлы, словари, строки"
   ]
  },
  {
   "cell_type": "markdown",
   "metadata": {
    "collapsed": false
   },
   "source": [
    "## 2.1 Арифметические и логические операторы"
   ]
  },
  {
   "cell_type": "markdown",
   "metadata": {},
   "source": [
    "Ниже приведены операторы в порядке убывания приоритета"
   ]
  },
  {
   "cell_type": "raw",
   "metadata": {
    "collapsed": false
   },
   "source": [
    "(e), [e]\n",
    "e1 ** e2\n",
    "+e, -e\n",
    "e1 * e2, e1 / e2, e1 // e2, e1 % e2\n",
    "e1 + e2, e1 - e2\n",
    "e1 > e2, e1 == e2, e1 in e2\n",
    "not e\n",
    "e1 and e2\n",
    "e1 or e2"
   ]
  },
  {
   "cell_type": "markdown",
   "metadata": {},
   "source": [
    "Возведение в степень можно использовать несколько раз. Возводиться оно будет так же, как и в математике \"башня степеней\"."
   ]
  },
  {
   "cell_type": "code",
   "execution_count": 137,
   "metadata": {
    "collapsed": false
   },
   "outputs": [
    {
     "data": {
      "text/plain": [
       "(256, 64)"
      ]
     },
     "execution_count": 137,
     "metadata": {},
     "output_type": "execute_result"
    }
   ],
   "source": [
    "2 ** 2 ** 3, (2 ** 2) ** 3"
   ]
  },
  {
   "cell_type": "markdown",
   "metadata": {},
   "source": [
    "Несмотря на приоритеты операторов, степень ведет себя по-другому в некоторых случаях."
   ]
  },
  {
   "cell_type": "code",
   "execution_count": 142,
   "metadata": {
    "collapsed": false
   },
   "outputs": [
    {
     "data": {
      "text/plain": [
       "0.5"
      ]
     },
     "execution_count": 142,
     "metadata": {},
     "output_type": "execute_result"
    }
   ],
   "source": [
    "2 ** -1"
   ]
  },
  {
   "cell_type": "markdown",
   "metadata": {},
   "source": [
    "Тем не менее"
   ]
  },
  {
   "cell_type": "code",
   "execution_count": 145,
   "metadata": {
    "collapsed": false
   },
   "outputs": [
    {
     "data": {
      "text/plain": [
       "-16"
      ]
     },
     "execution_count": 145,
     "metadata": {},
     "output_type": "execute_result"
    }
   ],
   "source": [
    "-2 ** 4"
   ]
  },
  {
   "cell_type": "markdown",
   "metadata": {
    "collapsed": false
   },
   "source": [
    "Целочисленное деление"
   ]
  },
  {
   "cell_type": "code",
   "execution_count": 147,
   "metadata": {
    "collapsed": false
   },
   "outputs": [
    {
     "data": {
      "text/plain": [
       "3.0"
      ]
     },
     "execution_count": 147,
     "metadata": {},
     "output_type": "execute_result"
    }
   ],
   "source": [
    "2.0 // 0.6"
   ]
  },
  {
   "cell_type": "code",
   "execution_count": 148,
   "metadata": {
    "collapsed": false
   },
   "outputs": [
    {
     "data": {
      "text/plain": [
       "2.0"
      ]
     },
     "execution_count": 148,
     "metadata": {},
     "output_type": "execute_result"
    }
   ],
   "source": [
    "2.0 // 0.7"
   ]
  },
  {
   "cell_type": "code",
   "execution_count": 149,
   "metadata": {
    "collapsed": false
   },
   "outputs": [
    {
     "data": {
      "text/plain": [
       "True"
      ]
     },
     "execution_count": 149,
     "metadata": {},
     "output_type": "execute_result"
    }
   ],
   "source": [
    "2 != 3"
   ]
  },
  {
   "cell_type": "code",
   "execution_count": 150,
   "metadata": {
    "collapsed": false
   },
   "outputs": [
    {
     "data": {
      "text/plain": [
       "True"
      ]
     },
     "execution_count": 150,
     "metadata": {},
     "output_type": "execute_result"
    }
   ],
   "source": [
    "2 <> 3"
   ]
  },
  {
   "cell_type": "code",
   "execution_count": 151,
   "metadata": {
    "collapsed": false
   },
   "outputs": [
    {
     "data": {
      "text/plain": [
       "False"
      ]
     },
     "execution_count": 151,
     "metadata": {},
     "output_type": "execute_result"
    }
   ],
   "source": [
    "2 == 2 == 3"
   ]
  },
  {
   "cell_type": "markdown",
   "metadata": {},
   "source": [
    "С помощью пар in / not in можно проверять является элемент элементом списка"
   ]
  },
  {
   "cell_type": "code",
   "execution_count": 155,
   "metadata": {
    "collapsed": false
   },
   "outputs": [
    {
     "data": {
      "text/plain": [
       "False"
      ]
     },
     "execution_count": 155,
     "metadata": {},
     "output_type": "execute_result"
    }
   ],
   "source": [
    "1 not in [1,2,3]"
   ]
  },
  {
   "cell_type": "code",
   "execution_count": 156,
   "metadata": {
    "collapsed": false
   },
   "outputs": [
    {
     "data": {
      "text/plain": [
       "True"
      ]
     },
     "execution_count": 156,
     "metadata": {},
     "output_type": "execute_result"
    }
   ],
   "source": [
    "1 not in [[1,2]]"
   ]
  },
  {
   "cell_type": "markdown",
   "metadata": {},
   "source": [
    "Надо отметить, что если при обработке условия вы уже получили, что хотели, то дальше может быть написана любая чушь. Например"
   ]
  },
  {
   "cell_type": "code",
   "execution_count": 158,
   "metadata": {
    "collapsed": false
   },
   "outputs": [
    {
     "data": {
      "text/plain": [
       "True"
      ]
     },
     "execution_count": 158,
     "metadata": {},
     "output_type": "execute_result"
    }
   ],
   "source": [
    "True or kcmkwmcew"
   ]
  },
  {
   "cell_type": "markdown",
   "metadata": {},
   "source": [
    "Операторы `or` и `and` также можно использовать в следующих ситуациях"
   ]
  },
  {
   "cell_type": "code",
   "execution_count": 5,
   "metadata": {
    "collapsed": false
   },
   "outputs": [
    {
     "name": "stdout",
     "output_type": "stream",
     "text": [
      "aplha\n",
      "None\n"
     ]
    }
   ],
   "source": [
    "b = None\n",
    "\n",
    "d = b or 'aplha'\n",
    "print d\n",
    "\n",
    "e = b and 'aplha'\n",
    "print e"
   ]
  },
  {
   "cell_type": "code",
   "execution_count": 6,
   "metadata": {
    "collapsed": false
   },
   "outputs": [
    {
     "name": "stdout",
     "output_type": "stream",
     "text": [
      "beta\n",
      "aplha\n"
     ]
    }
   ],
   "source": [
    "b = 'beta'\n",
    "\n",
    "d = b or 'aplha'\n",
    "print d\n",
    "\n",
    "e = b and 'aplha'\n",
    "print e"
   ]
  },
  {
   "cell_type": "markdown",
   "metadata": {},
   "source": [
    "Таким образом, `or` возвращает первое истинное, а `and` --- первое False или последнее True, если  False нет"
   ]
  },
  {
   "cell_type": "markdown",
   "metadata": {
    "collapsed": false
   },
   "source": [
    "## 2.2 Запятая и присваивание"
   ]
  },
  {
   "cell_type": "code",
   "execution_count": 160,
   "metadata": {
    "collapsed": true
   },
   "outputs": [],
   "source": [
    "a = 1\n",
    "b = 2\n",
    "c = 3\n",
    "d = 4"
   ]
  },
  {
   "cell_type": "markdown",
   "metadata": {},
   "source": [
    "При использовании запятой мы получаем на выходе \"список\"(не лист)  из разделенных запятой переменных"
   ]
  },
  {
   "cell_type": "code",
   "execution_count": 170,
   "metadata": {
    "collapsed": false
   },
   "outputs": [],
   "source": [
    "k = a, b, c, d"
   ]
  },
  {
   "cell_type": "code",
   "execution_count": 171,
   "metadata": {
    "collapsed": false
   },
   "outputs": [
    {
     "data": {
      "text/plain": [
       "(1, 2, 3, 4)"
      ]
     },
     "execution_count": 171,
     "metadata": {},
     "output_type": "execute_result"
    }
   ],
   "source": [
    "k"
   ]
  },
  {
   "cell_type": "markdown",
   "metadata": {},
   "source": [
    "Запятую можно использовать вместе с присваиванием. В примере ниже a будет равно c, b равно d."
   ]
  },
  {
   "cell_type": "code",
   "execution_count": 173,
   "metadata": {
    "collapsed": false
   },
   "outputs": [],
   "source": [
    "a, b = c, d"
   ]
  },
  {
   "cell_type": "code",
   "execution_count": 174,
   "metadata": {
    "collapsed": false
   },
   "outputs": [
    {
     "name": "stdout",
     "output_type": "stream",
     "text": [
      "3 4 3 4\n"
     ]
    }
   ],
   "source": [
    "print a, b, c, d"
   ]
  },
  {
   "cell_type": "markdown",
   "metadata": {},
   "source": [
    "## 2.3 Работа с файлами"
   ]
  },
  {
   "cell_type": "markdown",
   "metadata": {},
   "source": [
    "Для открытия файла можно использовать open(<имя файла>). Если файл лежит в директории отличной от директории проекта, можно прописать путь к файлу."
   ]
  },
  {
   "cell_type": "raw",
   "metadata": {},
   "source": [
    "Содержание файла test.txt:\n",
    "Hello, world!\n",
    "abcdef"
   ]
  },
  {
   "cell_type": "code",
   "execution_count": 198,
   "metadata": {
    "collapsed": true
   },
   "outputs": [],
   "source": [
    "f = open('test.txt')"
   ]
  },
  {
   "cell_type": "markdown",
   "metadata": {},
   "source": [
    "Открытый файл можно прочитать с помощью read()"
   ]
  },
  {
   "cell_type": "code",
   "execution_count": 199,
   "metadata": {
    "collapsed": false
   },
   "outputs": [
    {
     "name": "stdout",
     "output_type": "stream",
     "text": [
      "Hello, world!\n",
      "abcdef\n"
     ]
    }
   ],
   "source": [
    "s = f.read()\n",
    "print s"
   ]
  },
  {
   "cell_type": "code",
   "execution_count": 200,
   "metadata": {
    "collapsed": false
   },
   "outputs": [
    {
     "data": {
      "text/plain": [
       "''"
      ]
     },
     "execution_count": 200,
     "metadata": {},
     "output_type": "execute_result"
    }
   ],
   "source": [
    "f.read()"
   ]
  },
  {
   "cell_type": "markdown",
   "metadata": {},
   "source": [
    "Как видно, прочитать файл с помощью read можно только раз."
   ]
  },
  {
   "cell_type": "markdown",
   "metadata": {},
   "source": [
    "Закрыть файл можно с помощью close()"
   ]
  },
  {
   "cell_type": "code",
   "execution_count": null,
   "metadata": {
    "collapsed": true
   },
   "outputs": [],
   "source": [
    "f.close()"
   ]
  },
  {
   "cell_type": "markdown",
   "metadata": {},
   "source": [
    "Чтобы закрытие файла проходило автоматически и нам не нужно было за этим следить, есть удобный способ:"
   ]
  },
  {
   "cell_type": "code",
   "execution_count": 212,
   "metadata": {
    "collapsed": false
   },
   "outputs": [
    {
     "name": "stdout",
     "output_type": "stream",
     "text": [
      "Hello, world!\n",
      "abcdef\n",
      "False\n"
     ]
    }
   ],
   "source": [
    "with open('test.txt') as f:\n",
    "    print f.read()\n",
    "    print f.closed"
   ]
  },
  {
   "cell_type": "code",
   "execution_count": 213,
   "metadata": {
    "collapsed": false
   },
   "outputs": [
    {
     "data": {
      "text/plain": [
       "True"
      ]
     },
     "execution_count": 213,
     "metadata": {},
     "output_type": "execute_result"
    }
   ],
   "source": [
    "f.closed"
   ]
  },
  {
   "cell_type": "markdown",
   "metadata": {},
   "source": [
    "Вывод в файл осуществляется с помощью write. Для открытия файла в режиме записи, нужно через запятую написать параметр 'w'."
   ]
  },
  {
   "cell_type": "code",
   "execution_count": 215,
   "metadata": {
    "collapsed": true
   },
   "outputs": [],
   "source": [
    "with open('test.txt', 'w') as f:\n",
    "    f.write('abcd\\n')"
   ]
  },
  {
   "cell_type": "code",
   "execution_count": 216,
   "metadata": {
    "collapsed": false
   },
   "outputs": [
    {
     "name": "stdout",
     "output_type": "stream",
     "text": [
      "abcd\n",
      "\n"
     ]
    }
   ],
   "source": [
    "with open('test.txt', 'r') as f:\n",
    "    print f.read()"
   ]
  },
  {
   "cell_type": "markdown",
   "metadata": {},
   "source": [
    "Напишем теперь в f несколько строчек."
   ]
  },
  {
   "cell_type": "code",
   "execution_count": 219,
   "metadata": {
    "collapsed": true
   },
   "outputs": [],
   "source": [
    "with open('test.txt', 'w') as f:\n",
    "    f.write('abcd\\nfghijkl')"
   ]
  },
  {
   "cell_type": "code",
   "execution_count": 221,
   "metadata": {
    "collapsed": false
   },
   "outputs": [
    {
     "name": "stdout",
     "output_type": "stream",
     "text": [
      "abcd\n",
      "fghijkl\n"
     ]
    }
   ],
   "source": [
    "with open('test.txt') as f:\n",
    "    for line in f:\n",
    "        print line,"
   ]
  },
  {
   "cell_type": "code",
   "execution_count": 223,
   "metadata": {
    "collapsed": false
   },
   "outputs": [
    {
     "name": "stdout",
     "output_type": "stream",
     "text": [
      "a b c\n"
     ]
    }
   ],
   "source": [
    "for s in 'abc':\n",
    "    print s,"
   ]
  },
  {
   "cell_type": "code",
   "execution_count": 224,
   "metadata": {
    "collapsed": false
   },
   "outputs": [
    {
     "name": "stdout",
     "output_type": "stream",
     "text": [
      "a\n",
      "b\n",
      "c\n"
     ]
    }
   ],
   "source": [
    "for s in 'abc':\n",
    "    print s"
   ]
  },
  {
   "cell_type": "markdown",
   "metadata": {},
   "source": [
    "## 2.4 Работа с модулями и аргументами командной строки"
   ]
  },
  {
   "cell_type": "markdown",
   "metadata": {},
   "source": [
    "Модули подключаются с помощью import"
   ]
  },
  {
   "cell_type": "code",
   "execution_count": 225,
   "metadata": {
    "collapsed": true
   },
   "outputs": [],
   "source": [
    "import sys"
   ]
  },
  {
   "cell_type": "markdown",
   "metadata": {
    "collapsed": false
   },
   "source": [
    "sys.argv возвращает список, в котором хранятся сначала имя файла, а затем аргументы командной строки"
   ]
  },
  {
   "cell_type": "markdown",
   "metadata": {},
   "source": [
    "Например, если мы бы запускали наш .py файл с помощью команды python main.py 1 в sys.argv содержался бы список ['main.py', '1']"
   ]
  },
  {
   "cell_type": "markdown",
   "metadata": {},
   "source": [
    "Поскольку в python все строчки выполняются последовательно, нет прямой необходимости писать какие-то функции вроде main. Тем не менее мы будем с вами их использовать:"
   ]
  },
  {
   "cell_type": "code",
   "execution_count": null,
   "metadata": {
    "collapsed": true
   },
   "outputs": [],
   "source": [
    "def main():\n",
    "    print 'hello'\n",
    "    x = 1 + 1\n",
    "    \n",
    "main()"
   ]
  },
  {
   "cell_type": "markdown",
   "metadata": {},
   "source": [
    "Вернемся к модулям. Допустим мы с вами импортировали модуль. Как получить информацию о функциях, доступных в нем."
   ]
  },
  {
   "cell_type": "code",
   "execution_count": 229,
   "metadata": {
    "collapsed": true
   },
   "outputs": [],
   "source": [
    "import string"
   ]
  },
  {
   "cell_type": "code",
   "execution_count": 230,
   "metadata": {
    "collapsed": false
   },
   "outputs": [
    {
     "name": "stdout",
     "output_type": "stream",
     "text": [
      "Help on module string:\n",
      "\n",
      "NAME\n",
      "    string - A collection of string operations (most are no longer used).\n",
      "\n",
      "FILE\n",
      "    /opt/local/Library/Frameworks/Python.framework/Versions/2.7/lib/python2.7/string.py\n",
      "\n",
      "MODULE DOCS\n",
      "    http://docs.python.org/library/string\n",
      "\n",
      "DESCRIPTION\n",
      "    Warning: most of the code you see here isn't normally used nowadays.\n",
      "    Beginning with Python 1.6, many of these functions are implemented as\n",
      "    methods on the standard string object. They used to be implemented by\n",
      "    a built-in module called strop, but strop is now obsolete itself.\n",
      "    \n",
      "    Public module variables:\n",
      "    \n",
      "    whitespace -- a string containing all characters considered whitespace\n",
      "    lowercase -- a string containing all characters considered lowercase letters\n",
      "    uppercase -- a string containing all characters considered uppercase letters\n",
      "    letters -- a string containing all characters considered letters\n",
      "    digits -- a string containing all characters considered decimal digits\n",
      "    hexdigits -- a string containing all characters considered hexadecimal digits\n",
      "    octdigits -- a string containing all characters considered octal digits\n",
      "    punctuation -- a string containing all characters considered punctuation\n",
      "    printable -- a string containing all characters considered printable\n",
      "\n",
      "CLASSES\n",
      "    __builtin__.object\n",
      "        Formatter\n",
      "        Template\n",
      "    \n",
      "    class Formatter(__builtin__.object)\n",
      "     |  Methods defined here:\n",
      "     |  \n",
      "     |  check_unused_args(self, used_args, args, kwargs)\n",
      "     |  \n",
      "     |  convert_field(self, value, conversion)\n",
      "     |  \n",
      "     |  format(self, format_string, *args, **kwargs)\n",
      "     |  \n",
      "     |  format_field(self, value, format_spec)\n",
      "     |  \n",
      "     |  get_field(self, field_name, args, kwargs)\n",
      "     |      # given a field_name, find the object it references.\n",
      "     |      #  field_name:   the field being looked up, e.g. \"0.name\"\n",
      "     |      #                 or \"lookup[3]\"\n",
      "     |      #  used_args:    a set of which args have been used\n",
      "     |      #  args, kwargs: as passed in to vformat\n",
      "     |  \n",
      "     |  get_value(self, key, args, kwargs)\n",
      "     |  \n",
      "     |  parse(self, format_string)\n",
      "     |      # returns an iterable that contains tuples of the form:\n",
      "     |      # (literal_text, field_name, format_spec, conversion)\n",
      "     |      # literal_text can be zero length\n",
      "     |      # field_name can be None, in which case there's no\n",
      "     |      #  object to format and output\n",
      "     |      # if field_name is not None, it is looked up, formatted\n",
      "     |      #  with format_spec and conversion and then used\n",
      "     |  \n",
      "     |  vformat(self, format_string, args, kwargs)\n",
      "     |  \n",
      "     |  ----------------------------------------------------------------------\n",
      "     |  Data descriptors defined here:\n",
      "     |  \n",
      "     |  __dict__\n",
      "     |      dictionary for instance variables (if defined)\n",
      "     |  \n",
      "     |  __weakref__\n",
      "     |      list of weak references to the object (if defined)\n",
      "    \n",
      "    class Template(__builtin__.object)\n",
      "     |  A string class for supporting $-substitutions.\n",
      "     |  \n",
      "     |  Methods defined here:\n",
      "     |  \n",
      "     |  __init__(self, template)\n",
      "     |  \n",
      "     |  safe_substitute(self, *args, **kws)\n",
      "     |  \n",
      "     |  substitute(self, *args, **kws)\n",
      "     |  \n",
      "     |  ----------------------------------------------------------------------\n",
      "     |  Data descriptors defined here:\n",
      "     |  \n",
      "     |  __dict__\n",
      "     |      dictionary for instance variables (if defined)\n",
      "     |  \n",
      "     |  __weakref__\n",
      "     |      list of weak references to the object (if defined)\n",
      "     |  \n",
      "     |  ----------------------------------------------------------------------\n",
      "     |  Data and other attributes defined here:\n",
      "     |  \n",
      "     |  __metaclass__ = <class 'string._TemplateMetaclass'>\n",
      "     |  \n",
      "     |  \n",
      "     |  delimiter = '$'\n",
      "     |  \n",
      "     |  idpattern = '[_a-z][_a-z0-9]*'\n",
      "     |  \n",
      "     |  pattern = <_sre.SRE_Pattern object>\n",
      "\n",
      "FUNCTIONS\n",
      "    atof(s)\n",
      "        atof(s) -> float\n",
      "        \n",
      "        Return the floating point number represented by the string s.\n",
      "    \n",
      "    atoi(s, base=10)\n",
      "        atoi(s [,base]) -> int\n",
      "        \n",
      "        Return the integer represented by the string s in the given\n",
      "        base, which defaults to 10.  The string s must consist of one\n",
      "        or more digits, possibly preceded by a sign.  If base is 0, it\n",
      "        is chosen from the leading characters of s, 0 for octal, 0x or\n",
      "        0X for hexadecimal.  If base is 16, a preceding 0x or 0X is\n",
      "        accepted.\n",
      "    \n",
      "    atol(s, base=10)\n",
      "        atol(s [,base]) -> long\n",
      "        \n",
      "        Return the long integer represented by the string s in the\n",
      "        given base, which defaults to 10.  The string s must consist\n",
      "        of one or more digits, possibly preceded by a sign.  If base\n",
      "        is 0, it is chosen from the leading characters of s, 0 for\n",
      "        octal, 0x or 0X for hexadecimal.  If base is 16, a preceding\n",
      "        0x or 0X is accepted.  A trailing L or l is not accepted,\n",
      "        unless base is 0.\n",
      "    \n",
      "    capitalize(s)\n",
      "        capitalize(s) -> string\n",
      "        \n",
      "        Return a copy of the string s with only its first character\n",
      "        capitalized.\n",
      "    \n",
      "    capwords(s, sep=None)\n",
      "        capwords(s [,sep]) -> string\n",
      "        \n",
      "        Split the argument into words using split, capitalize each\n",
      "        word using capitalize, and join the capitalized words using\n",
      "        join.  If the optional second argument sep is absent or None,\n",
      "        runs of whitespace characters are replaced by a single space\n",
      "        and leading and trailing whitespace are removed, otherwise\n",
      "        sep is used to split and join the words.\n",
      "    \n",
      "    center(s, width, *args)\n",
      "        center(s, width[, fillchar]) -> string\n",
      "        \n",
      "        Return a center version of s, in a field of the specified\n",
      "        width. padded with spaces as needed.  The string is never\n",
      "        truncated.  If specified the fillchar is used instead of spaces.\n",
      "    \n",
      "    count(s, *args)\n",
      "        count(s, sub[, start[,end]]) -> int\n",
      "        \n",
      "        Return the number of occurrences of substring sub in string\n",
      "        s[start:end].  Optional arguments start and end are\n",
      "        interpreted as in slice notation.\n",
      "    \n",
      "    expandtabs(s, tabsize=8)\n",
      "        expandtabs(s [,tabsize]) -> string\n",
      "        \n",
      "        Return a copy of the string s with all tab characters replaced\n",
      "        by the appropriate number of spaces, depending on the current\n",
      "        column, and the tabsize (default 8).\n",
      "    \n",
      "    find(s, *args)\n",
      "        find(s, sub [,start [,end]]) -> in\n",
      "        \n",
      "        Return the lowest index in s where substring sub is found,\n",
      "        such that sub is contained within s[start,end].  Optional\n",
      "        arguments start and end are interpreted as in slice notation.\n",
      "        \n",
      "        Return -1 on failure.\n",
      "    \n",
      "    index(s, *args)\n",
      "        index(s, sub [,start [,end]]) -> int\n",
      "        \n",
      "        Like find but raises ValueError when the substring is not found.\n",
      "    \n",
      "    join(words, sep=' ')\n",
      "        join(list [,sep]) -> string\n",
      "        \n",
      "        Return a string composed of the words in list, with\n",
      "        intervening occurrences of sep.  The default separator is a\n",
      "        single space.\n",
      "        \n",
      "        (joinfields and join are synonymous)\n",
      "    \n",
      "    joinfields = join(words, sep=' ')\n",
      "        join(list [,sep]) -> string\n",
      "        \n",
      "        Return a string composed of the words in list, with\n",
      "        intervening occurrences of sep.  The default separator is a\n",
      "        single space.\n",
      "        \n",
      "        (joinfields and join are synonymous)\n",
      "    \n",
      "    ljust(s, width, *args)\n",
      "        ljust(s, width[, fillchar]) -> string\n",
      "        \n",
      "        Return a left-justified version of s, in a field of the\n",
      "        specified width, padded with spaces as needed.  The string is\n",
      "        never truncated.  If specified the fillchar is used instead of spaces.\n",
      "    \n",
      "    lower(s)\n",
      "        lower(s) -> string\n",
      "        \n",
      "        Return a copy of the string s converted to lowercase.\n",
      "    \n",
      "    lstrip(s, chars=None)\n",
      "        lstrip(s [,chars]) -> string\n",
      "        \n",
      "        Return a copy of the string s with leading whitespace removed.\n",
      "        If chars is given and not None, remove characters in chars instead.\n",
      "    \n",
      "    maketrans(...)\n",
      "        maketrans(frm, to) -> string\n",
      "        \n",
      "        Return a translation table (a string of 256 bytes long)\n",
      "        suitable for use in string.translate.  The strings frm and to\n",
      "        must be of the same length.\n",
      "    \n",
      "    replace(s, old, new, maxreplace=-1)\n",
      "        replace (str, old, new[, maxreplace]) -> string\n",
      "        \n",
      "        Return a copy of string str with all occurrences of substring\n",
      "        old replaced by new. If the optional argument maxreplace is\n",
      "        given, only the first maxreplace occurrences are replaced.\n",
      "    \n",
      "    rfind(s, *args)\n",
      "        rfind(s, sub [,start [,end]]) -> int\n",
      "        \n",
      "        Return the highest index in s where substring sub is found,\n",
      "        such that sub is contained within s[start,end].  Optional\n",
      "        arguments start and end are interpreted as in slice notation.\n",
      "        \n",
      "        Return -1 on failure.\n",
      "    \n",
      "    rindex(s, *args)\n",
      "        rindex(s, sub [,start [,end]]) -> int\n",
      "        \n",
      "        Like rfind but raises ValueError when the substring is not found.\n",
      "    \n",
      "    rjust(s, width, *args)\n",
      "        rjust(s, width[, fillchar]) -> string\n",
      "        \n",
      "        Return a right-justified version of s, in a field of the\n",
      "        specified width, padded with spaces as needed.  The string is\n",
      "        never truncated.  If specified the fillchar is used instead of spaces.\n",
      "    \n",
      "    rsplit(s, sep=None, maxsplit=-1)\n",
      "        rsplit(s [,sep [,maxsplit]]) -> list of strings\n",
      "        \n",
      "        Return a list of the words in the string s, using sep as the\n",
      "        delimiter string, starting at the end of the string and working\n",
      "        to the front.  If maxsplit is given, at most maxsplit splits are\n",
      "        done. If sep is not specified or is None, any whitespace string\n",
      "        is a separator.\n",
      "    \n",
      "    rstrip(s, chars=None)\n",
      "        rstrip(s [,chars]) -> string\n",
      "        \n",
      "        Return a copy of the string s with trailing whitespace removed.\n",
      "        If chars is given and not None, remove characters in chars instead.\n",
      "    \n",
      "    split(s, sep=None, maxsplit=-1)\n",
      "        split(s [,sep [,maxsplit]]) -> list of strings\n",
      "        \n",
      "        Return a list of the words in the string s, using sep as the\n",
      "        delimiter string.  If maxsplit is given, splits at no more than\n",
      "        maxsplit places (resulting in at most maxsplit+1 words).  If sep\n",
      "        is not specified or is None, any whitespace string is a separator.\n",
      "        \n",
      "        (split and splitfields are synonymous)\n",
      "    \n",
      "    splitfields = split(s, sep=None, maxsplit=-1)\n",
      "        split(s [,sep [,maxsplit]]) -> list of strings\n",
      "        \n",
      "        Return a list of the words in the string s, using sep as the\n",
      "        delimiter string.  If maxsplit is given, splits at no more than\n",
      "        maxsplit places (resulting in at most maxsplit+1 words).  If sep\n",
      "        is not specified or is None, any whitespace string is a separator.\n",
      "        \n",
      "        (split and splitfields are synonymous)\n",
      "    \n",
      "    strip(s, chars=None)\n",
      "        strip(s [,chars]) -> string\n",
      "        \n",
      "        Return a copy of the string s with leading and trailing\n",
      "        whitespace removed.\n",
      "        If chars is given and not None, remove characters in chars instead.\n",
      "        If chars is unicode, S will be converted to unicode before stripping.\n",
      "    \n",
      "    swapcase(s)\n",
      "        swapcase(s) -> string\n",
      "        \n",
      "        Return a copy of the string s with upper case characters\n",
      "        converted to lowercase and vice versa.\n",
      "    \n",
      "    translate(s, table, deletions='')\n",
      "        translate(s,table [,deletions]) -> string\n",
      "        \n",
      "        Return a copy of the string s, where all characters occurring\n",
      "        in the optional argument deletions are removed, and the\n",
      "        remaining characters have been mapped through the given\n",
      "        translation table, which must be a string of length 256.  The\n",
      "        deletions argument is not allowed for Unicode strings.\n",
      "    \n",
      "    upper(s)\n",
      "        upper(s) -> string\n",
      "        \n",
      "        Return a copy of the string s converted to uppercase.\n",
      "    \n",
      "    zfill(x, width)\n",
      "        zfill(x, width) -> string\n",
      "        \n",
      "        Pad a numeric string x with zeros on the left, to fill a field\n",
      "        of the specified width.  The string x is never truncated.\n",
      "\n",
      "DATA\n",
      "    ascii_letters = 'abcdefghijklmnopqrstuvwxyzABCDEFGHIJKLMNOPQRSTUVWXYZ'\n",
      "    ascii_lowercase = 'abcdefghijklmnopqrstuvwxyz'\n",
      "    ascii_uppercase = 'ABCDEFGHIJKLMNOPQRSTUVWXYZ'\n",
      "    digits = '0123456789'\n",
      "    hexdigits = '0123456789abcdefABCDEF'\n",
      "    letters = 'ABCDEFGHIJKLMNOPQRSTUVWXYZabcdefghijklmnopqrstuvwxyz'\n",
      "    lowercase = 'abcdefghijklmnopqrstuvwxyz'\n",
      "    octdigits = '01234567'\n",
      "    printable = '0123456789abcdefghijklmnopqrstuvwxyzABCDEFGHIJKLMNOPQRSTU...\n",
      "    punctuation = '!\"#$%&\\'()*+,-./:;<=>?@[\\\\]^_`{|}~'\n",
      "    uppercase = 'ABCDEFGHIJKLMNOPQRSTUVWXYZ'\n",
      "    whitespace = '\\t\\n\\x0b\\x0c\\r '\n",
      "\n",
      "\n"
     ]
    }
   ],
   "source": [
    "help(string)"
   ]
  },
  {
   "cell_type": "markdown",
   "metadata": {},
   "source": [
    "Если мы не хотим при использовании фукнции некоторого модуля каждый раз писать его название, можно вопспользоваться следующей конструкцией"
   ]
  },
  {
   "cell_type": "code",
   "execution_count": 231,
   "metadata": {
    "collapsed": true
   },
   "outputs": [],
   "source": [
    "from sys import stdin"
   ]
  },
  {
   "cell_type": "code",
   "execution_count": 232,
   "metadata": {
    "collapsed": false
   },
   "outputs": [
    {
     "data": {
      "text/plain": [
       "''"
      ]
     },
     "execution_count": 232,
     "metadata": {},
     "output_type": "execute_result"
    }
   ],
   "source": [
    "stdin.read()"
   ]
  },
  {
   "cell_type": "markdown",
   "metadata": {},
   "source": [
    "## 2.5 Немного о приведении типов и функциях списков"
   ]
  },
  {
   "cell_type": "markdown",
   "metadata": {},
   "source": [
    "Приведение типов можно делать так:"
   ]
  },
  {
   "cell_type": "code",
   "execution_count": 237,
   "metadata": {
    "collapsed": false
   },
   "outputs": [
    {
     "data": {
      "text/plain": [
       "1"
      ]
     },
     "execution_count": 237,
     "metadata": {},
     "output_type": "execute_result"
    }
   ],
   "source": [
    "int('1')"
   ]
  },
  {
   "cell_type": "code",
   "execution_count": 238,
   "metadata": {
    "collapsed": false
   },
   "outputs": [
    {
     "data": {
      "text/plain": [
       "'1'"
      ]
     },
     "execution_count": 238,
     "metadata": {},
     "output_type": "execute_result"
    }
   ],
   "source": [
    "str(1)"
   ]
  },
  {
   "cell_type": "code",
   "execution_count": 239,
   "metadata": {
    "collapsed": false
   },
   "outputs": [
    {
     "data": {
      "text/plain": [
       "'[1, 2, 3]'"
      ]
     },
     "execution_count": 239,
     "metadata": {},
     "output_type": "execute_result"
    }
   ],
   "source": [
    "str([1, 2, 3])"
   ]
  },
  {
   "cell_type": "markdown",
   "metadata": {},
   "source": [
    "Аналогично c++ здесь есть команды break и continue"
   ]
  },
  {
   "cell_type": "code",
   "execution_count": 241,
   "metadata": {
    "collapsed": true
   },
   "outputs": [],
   "source": [
    "while True:\n",
    "    break"
   ]
  },
  {
   "cell_type": "markdown",
   "metadata": {},
   "source": [
    "В python есть возможность разрывать строку кода"
   ]
  },
  {
   "cell_type": "code",
   "execution_count": 244,
   "metadata": {
    "collapsed": false
   },
   "outputs": [],
   "source": [
    "x = 2+\\\n",
    "1\n"
   ]
  },
  {
   "cell_type": "code",
   "execution_count": 245,
   "metadata": {
    "collapsed": false
   },
   "outputs": [
    {
     "data": {
      "text/plain": [
       "3"
      ]
     },
     "execution_count": 245,
     "metadata": {},
     "output_type": "execute_result"
    }
   ],
   "source": [
    "x"
   ]
  },
  {
   "cell_type": "code",
   "execution_count": 246,
   "metadata": {
    "collapsed": false
   },
   "outputs": [],
   "source": [
    "x = ( 1+\n",
    "2)"
   ]
  },
  {
   "cell_type": "markdown",
   "metadata": {},
   "source": [
    "Отсортировать что-нибудь можно с помощью функции sorted()"
   ]
  },
  {
   "cell_type": "code",
   "execution_count": 250,
   "metadata": {
    "collapsed": false
   },
   "outputs": [
    {
     "data": {
      "text/plain": [
       "[-1, 0, 1, 2, 3]"
      ]
     },
     "execution_count": 250,
     "metadata": {},
     "output_type": "execute_result"
    }
   ],
   "source": [
    "sorted([1,2,3,0,-1])"
   ]
  },
  {
   "cell_type": "code",
   "execution_count": 251,
   "metadata": {
    "collapsed": false
   },
   "outputs": [
    {
     "data": {
      "text/plain": [
       "['a', 'd', 'f', 'v', 'v']"
      ]
     },
     "execution_count": 251,
     "metadata": {},
     "output_type": "execute_result"
    }
   ],
   "source": [
    "sorted('avdfv')"
   ]
  },
  {
   "cell_type": "markdown",
   "metadata": {},
   "source": [
    "Для списков есть функция sort"
   ]
  },
  {
   "cell_type": "code",
   "execution_count": 255,
   "metadata": {
    "collapsed": false
   },
   "outputs": [
    {
     "data": {
      "text/plain": [
       "[-1, 1, 2, 4]"
      ]
     },
     "execution_count": 255,
     "metadata": {},
     "output_type": "execute_result"
    }
   ],
   "source": [
    "x=[1,2,4,-1]\n",
    "x.sort()\n",
    "x"
   ]
  },
  {
   "cell_type": "markdown",
   "metadata": {},
   "source": [
    "## 2.6 Словари"
   ]
  },
  {
   "cell_type": "markdown",
   "metadata": {},
   "source": [
    "Роль ассоциативного массива в python играют словари dict"
   ]
  },
  {
   "cell_type": "code",
   "execution_count": 259,
   "metadata": {
    "collapsed": false
   },
   "outputs": [
    {
     "data": {
      "text/plain": [
       "dict"
      ]
     },
     "execution_count": 259,
     "metadata": {},
     "output_type": "execute_result"
    }
   ],
   "source": [
    "dict"
   ]
  },
  {
   "cell_type": "markdown",
   "metadata": {},
   "source": [
    "Задать словарь можно так:"
   ]
  },
  {
   "cell_type": "code",
   "execution_count": 260,
   "metadata": {
    "collapsed": true
   },
   "outputs": [],
   "source": [
    "x = {'a': 1, 2 : [1, 2]}"
   ]
  },
  {
   "cell_type": "code",
   "execution_count": 261,
   "metadata": {
    "collapsed": false
   },
   "outputs": [
    {
     "data": {
      "text/plain": [
       "dict"
      ]
     },
     "execution_count": 261,
     "metadata": {},
     "output_type": "execute_result"
    }
   ],
   "source": [
    "type(x)"
   ]
  },
  {
   "cell_type": "markdown",
   "metadata": {},
   "source": [
    "Доступ по ключу доступен с помощью квадратных скобок:"
   ]
  },
  {
   "cell_type": "code",
   "execution_count": 263,
   "metadata": {
    "collapsed": false
   },
   "outputs": [
    {
     "data": {
      "text/plain": [
       "1"
      ]
     },
     "execution_count": 263,
     "metadata": {},
     "output_type": "execute_result"
    }
   ],
   "source": [
    "x['a']"
   ]
  },
  {
   "cell_type": "markdown",
   "metadata": {},
   "source": [
    "Можно добавить новую пару ключ/значение или изменить значение по уже имеющемуся ключу"
   ]
  },
  {
   "cell_type": "code",
   "execution_count": 265,
   "metadata": {
    "collapsed": true
   },
   "outputs": [],
   "source": [
    "x[0] = 3"
   ]
  },
  {
   "cell_type": "code",
   "execution_count": 266,
   "metadata": {
    "collapsed": false
   },
   "outputs": [],
   "source": [
    "x['a']=4"
   ]
  },
  {
   "cell_type": "markdown",
   "metadata": {},
   "source": [
    "Какими могут быть ключи?"
   ]
  },
  {
   "cell_type": "code",
   "execution_count": 267,
   "metadata": {
    "collapsed": false
   },
   "outputs": [
    {
     "ename": "TypeError",
     "evalue": "unhashable type: 'list'",
     "output_type": "error",
     "traceback": [
      "\u001b[0;31m---------------------------------------------------------------------------\u001b[0m",
      "\u001b[0;31mTypeError\u001b[0m                                 Traceback (most recent call last)",
      "\u001b[0;32m<ipython-input-267-4018ea58a79b>\u001b[0m in \u001b[0;36m<module>\u001b[0;34m()\u001b[0m\n\u001b[0;32m----> 1\u001b[0;31m \u001b[0mx\u001b[0m\u001b[0;34m[\u001b[0m\u001b[0;34m[\u001b[0m\u001b[0;36m1\u001b[0m\u001b[0;34m,\u001b[0m\u001b[0;36m2\u001b[0m\u001b[0;34m]\u001b[0m\u001b[0;34m]\u001b[0m\u001b[0;34m=\u001b[0m\u001b[0;36m3\u001b[0m\u001b[0;34m\u001b[0m\u001b[0m\n\u001b[0m",
      "\u001b[0;31mTypeError\u001b[0m: unhashable type: 'list'"
     ]
    }
   ],
   "source": [
    "x[[1,2]]=3"
   ]
  },
  {
   "cell_type": "markdown",
   "metadata": {},
   "source": [
    "Ответ: хэшируемыми"
   ]
  },
  {
   "cell_type": "markdown",
   "metadata": {},
   "source": [
    "Списки не хэшируются, поскольку они изменяемы."
   ]
  },
  {
   "cell_type": "markdown",
   "metadata": {},
   "source": [
    "Проверить, есть ли в словаре элемент с данным ключом можно с помощью in"
   ]
  },
  {
   "cell_type": "code",
   "execution_count": 270,
   "metadata": {
    "collapsed": false
   },
   "outputs": [
    {
     "data": {
      "text/plain": [
       "True"
      ]
     },
     "execution_count": 270,
     "metadata": {},
     "output_type": "execute_result"
    }
   ],
   "source": [
    "'a' in x"
   ]
  },
  {
   "cell_type": "code",
   "execution_count": 271,
   "metadata": {
    "collapsed": false
   },
   "outputs": [
    {
     "data": {
      "text/plain": [
       "False"
      ]
     },
     "execution_count": 271,
     "metadata": {},
     "output_type": "execute_result"
    }
   ],
   "source": [
    "5 in x"
   ]
  },
  {
   "cell_type": "markdown",
   "metadata": {},
   "source": [
    "Пробежаться по ключам словаря можно таким циклом"
   ]
  },
  {
   "cell_type": "code",
   "execution_count": 272,
   "metadata": {
    "collapsed": false
   },
   "outputs": [
    {
     "name": "stdout",
     "output_type": "stream",
     "text": [
      "a\n",
      "0\n",
      "2\n"
     ]
    }
   ],
   "source": [
    "for k in x:\n",
    "    print k"
   ]
  },
  {
   "cell_type": "markdown",
   "metadata": {},
   "source": [
    "Про скобочки: квадратные создают список, круглые -- tuple, фигурные -- словарь."
   ]
  },
  {
   "cell_type": "code",
   "execution_count": 276,
   "metadata": {
    "collapsed": false
   },
   "outputs": [
    {
     "data": {
      "text/plain": [
       "[1, 2]"
      ]
     },
     "execution_count": 276,
     "metadata": {},
     "output_type": "execute_result"
    }
   ],
   "source": [
    "[1, 2]"
   ]
  },
  {
   "cell_type": "code",
   "execution_count": 277,
   "metadata": {
    "collapsed": false
   },
   "outputs": [
    {
     "data": {
      "text/plain": [
       "(1, 2)"
      ]
     },
     "execution_count": 277,
     "metadata": {},
     "output_type": "execute_result"
    }
   ],
   "source": [
    "(1, 2)"
   ]
  },
  {
   "cell_type": "markdown",
   "metadata": {},
   "source": [
    "tuple -- неизменяемый список. tuple хэшируем"
   ]
  },
  {
   "cell_type": "code",
   "execution_count": 282,
   "metadata": {
    "collapsed": false
   },
   "outputs": [],
   "source": [
    "x = {'a': 'b', 2: 'a'}"
   ]
  },
  {
   "cell_type": "code",
   "execution_count": 283,
   "metadata": {
    "collapsed": false
   },
   "outputs": [
    {
     "data": {
      "text/plain": [
       "[('a', 'b'), (2, 'a')]"
      ]
     },
     "execution_count": 283,
     "metadata": {},
     "output_type": "execute_result"
    }
   ],
   "source": [
    "x.items()"
   ]
  },
  {
   "cell_type": "code",
   "execution_count": 286,
   "metadata": {
    "collapsed": false
   },
   "outputs": [
    {
     "name": "stdout",
     "output_type": "stream",
     "text": [
      "key a value b\n",
      "key 2 value a\n"
     ]
    }
   ],
   "source": [
    "for k,v in x.items():\n",
    "    print 'key', k, 'value', v"
   ]
  },
  {
   "cell_type": "markdown",
   "metadata": {},
   "source": [
    "## 2.7 Tuple, str, list"
   ]
  },
  {
   "cell_type": "markdown",
   "metadata": {},
   "source": [
    "Что происходит с этими типами при сложении и умножениями"
   ]
  },
  {
   "cell_type": "code",
   "execution_count": 299,
   "metadata": {
    "collapsed": false
   },
   "outputs": [
    {
     "data": {
      "text/plain": [
       "(1, 2, 3, 4)"
      ]
     },
     "execution_count": 299,
     "metadata": {},
     "output_type": "execute_result"
    }
   ],
   "source": [
    "(1,2)+(3,4)"
   ]
  },
  {
   "cell_type": "code",
   "execution_count": 300,
   "metadata": {
    "collapsed": false
   },
   "outputs": [
    {
     "data": {
      "text/plain": [
       "'abcsdf'"
      ]
     },
     "execution_count": 300,
     "metadata": {},
     "output_type": "execute_result"
    }
   ],
   "source": [
    "'abc'+'sdf'"
   ]
  },
  {
   "cell_type": "code",
   "execution_count": 301,
   "metadata": {
    "collapsed": false
   },
   "outputs": [
    {
     "data": {
      "text/plain": [
       "[1, 2, 3, 45]"
      ]
     },
     "execution_count": 301,
     "metadata": {},
     "output_type": "execute_result"
    }
   ],
   "source": [
    "[1,2]+[3,45]"
   ]
  },
  {
   "cell_type": "code",
   "execution_count": 302,
   "metadata": {
    "collapsed": false
   },
   "outputs": [
    {
     "data": {
      "text/plain": [
       "(1, 2, 1, 2, 1, 2, 1, 2)"
      ]
     },
     "execution_count": 302,
     "metadata": {},
     "output_type": "execute_result"
    }
   ],
   "source": [
    "(1,2)*4"
   ]
  },
  {
   "cell_type": "code",
   "execution_count": 303,
   "metadata": {
    "collapsed": false
   },
   "outputs": [
    {
     "data": {
      "text/plain": [
       "'abcabcabcabc'"
      ]
     },
     "execution_count": 303,
     "metadata": {},
     "output_type": "execute_result"
    }
   ],
   "source": [
    "'abc'*4"
   ]
  },
  {
   "cell_type": "markdown",
   "metadata": {},
   "source": [
    "Будьте аккуратны с умножениями списков!"
   ]
  },
  {
   "cell_type": "code",
   "execution_count": 305,
   "metadata": {
    "collapsed": false
   },
   "outputs": [
    {
     "data": {
      "text/plain": [
       "[1, 2, 1, 2, 1, 2, 1, 2]"
      ]
     },
     "execution_count": 305,
     "metadata": {},
     "output_type": "execute_result"
    }
   ],
   "source": [
    "[1,2]*4"
   ]
  },
  {
   "cell_type": "code",
   "execution_count": 306,
   "metadata": {
    "collapsed": true
   },
   "outputs": [],
   "source": [
    "x = [1,2]"
   ]
  },
  {
   "cell_type": "code",
   "execution_count": 307,
   "metadata": {
    "collapsed": true
   },
   "outputs": [],
   "source": [
    "y = [x] * 3"
   ]
  },
  {
   "cell_type": "code",
   "execution_count": 308,
   "metadata": {
    "collapsed": true
   },
   "outputs": [],
   "source": [
    "x[0] = 0"
   ]
  },
  {
   "cell_type": "code",
   "execution_count": 309,
   "metadata": {
    "collapsed": false
   },
   "outputs": [
    {
     "data": {
      "text/plain": [
       "[[0, 2], [0, 2], [0, 2]]"
      ]
     },
     "execution_count": 309,
     "metadata": {},
     "output_type": "execute_result"
    }
   ],
   "source": [
    "y"
   ]
  },
  {
   "cell_type": "markdown",
   "metadata": {},
   "source": [
    "### 2.8 Полезные функции для работы со строками и числами"
   ]
  },
  {
   "cell_type": "code",
   "execution_count": 311,
   "metadata": {
    "collapsed": false
   },
   "outputs": [
    {
     "data": {
      "text/plain": [
       "3"
      ]
     },
     "execution_count": 311,
     "metadata": {},
     "output_type": "execute_result"
    }
   ],
   "source": [
    "len('abc')"
   ]
  },
  {
   "cell_type": "code",
   "execution_count": 312,
   "metadata": {
    "collapsed": false
   },
   "outputs": [
    {
     "data": {
      "text/plain": [
       "3"
      ]
     },
     "execution_count": 312,
     "metadata": {},
     "output_type": "execute_result"
    }
   ],
   "source": [
    "max(2,3)"
   ]
  },
  {
   "cell_type": "code",
   "execution_count": 313,
   "metadata": {
    "collapsed": false
   },
   "outputs": [
    {
     "data": {
      "text/plain": [
       "3"
      ]
     },
     "execution_count": 313,
     "metadata": {},
     "output_type": "execute_result"
    }
   ],
   "source": [
    "min(3,344,234231)"
   ]
  },
  {
   "cell_type": "code",
   "execution_count": 314,
   "metadata": {
    "collapsed": false
   },
   "outputs": [
    {
     "data": {
      "text/plain": [
       "3"
      ]
     },
     "execution_count": 314,
     "metadata": {},
     "output_type": "execute_result"
    }
   ],
   "source": [
    "sum([1,2])"
   ]
  },
  {
   "cell_type": "code",
   "execution_count": 316,
   "metadata": {
    "collapsed": true
   },
   "outputs": [],
   "source": [
    "x = 'abcd'"
   ]
  },
  {
   "cell_type": "code",
   "execution_count": 317,
   "metadata": {
    "collapsed": false
   },
   "outputs": [
    {
     "data": {
      "text/plain": [
       "0"
      ]
     },
     "execution_count": 317,
     "metadata": {},
     "output_type": "execute_result"
    }
   ],
   "source": [
    "x.index('a')"
   ]
  },
  {
   "cell_type": "code",
   "execution_count": 321,
   "metadata": {
    "collapsed": false
   },
   "outputs": [],
   "source": [
    "x = 'ad ads    adsd'"
   ]
  },
  {
   "cell_type": "code",
   "execution_count": 322,
   "metadata": {
    "collapsed": false
   },
   "outputs": [
    {
     "data": {
      "text/plain": [
       "['ad', 'ads', '', '', '', 'adsd']"
      ]
     },
     "execution_count": 322,
     "metadata": {},
     "output_type": "execute_result"
    }
   ],
   "source": [
    "x.split(' ')"
   ]
  },
  {
   "cell_type": "code",
   "execution_count": 323,
   "metadata": {
    "collapsed": false
   },
   "outputs": [
    {
     "data": {
      "text/plain": [
       "['ad', 'ads', 'adsd']"
      ]
     },
     "execution_count": 323,
     "metadata": {},
     "output_type": "execute_result"
    }
   ],
   "source": [
    "x.split()"
   ]
  },
  {
   "cell_type": "code",
   "execution_count": 325,
   "metadata": {
    "collapsed": false
   },
   "outputs": [
    {
     "data": {
      "text/plain": [
       "'2ad ads    adsd1'"
      ]
     },
     "execution_count": 325,
     "metadata": {},
     "output_type": "execute_result"
    }
   ],
   "source": [
    "x.join(['2', '1'])"
   ]
  },
  {
   "cell_type": "code",
   "execution_count": 326,
   "metadata": {
    "collapsed": false
   },
   "outputs": [
    {
     "data": {
      "text/plain": [
       "'ad ads    adsd'"
      ]
     },
     "execution_count": 326,
     "metadata": {},
     "output_type": "execute_result"
    }
   ],
   "source": [
    "'rr'.join(x.split('rr'))"
   ]
  },
  {
   "cell_type": "code",
   "execution_count": 327,
   "metadata": {
    "collapsed": false
   },
   "outputs": [
    {
     "data": {
      "text/plain": [
       "'bd bds    bdsd'"
      ]
     },
     "execution_count": 327,
     "metadata": {},
     "output_type": "execute_result"
    }
   ],
   "source": [
    "x.replace('a', 'b')"
   ]
  },
  {
   "cell_type": "code",
   "execution_count": 328,
   "metadata": {
    "collapsed": false
   },
   "outputs": [
    {
     "data": {
      "text/plain": [
       "'ad ads    adsd'"
      ]
     },
     "execution_count": 328,
     "metadata": {},
     "output_type": "execute_result"
    }
   ],
   "source": [
    "x"
   ]
  },
  {
   "cell_type": "code",
   "execution_count": 329,
   "metadata": {
    "collapsed": false
   },
   "outputs": [
    {
     "data": {
      "text/plain": [
       "True"
      ]
     },
     "execution_count": 329,
     "metadata": {},
     "output_type": "execute_result"
    }
   ],
   "source": [
    "x.startswith('ad')"
   ]
  },
  {
   "cell_type": "code",
   "execution_count": 330,
   "metadata": {
    "collapsed": false
   },
   "outputs": [
    {
     "data": {
      "text/plain": [
       "False"
      ]
     },
     "execution_count": 330,
     "metadata": {},
     "output_type": "execute_result"
    }
   ],
   "source": [
    "x.endswith('sda')"
   ]
  },
  {
   "cell_type": "code",
   "execution_count": 331,
   "metadata": {
    "collapsed": true
   },
   "outputs": [],
   "source": [
    "x = '   dsfd sdf sdf      '"
   ]
  },
  {
   "cell_type": "code",
   "execution_count": 332,
   "metadata": {
    "collapsed": false
   },
   "outputs": [
    {
     "data": {
      "text/plain": [
       "'dsfd sdf sdf'"
      ]
     },
     "execution_count": 332,
     "metadata": {},
     "output_type": "execute_result"
    }
   ],
   "source": [
    "x.strip()"
   ]
  },
  {
   "cell_type": "code",
   "execution_count": 333,
   "metadata": {
    "collapsed": false
   },
   "outputs": [
    {
     "data": {
      "text/plain": [
       "'dsfd sdf sdf      '"
      ]
     },
     "execution_count": 333,
     "metadata": {},
     "output_type": "execute_result"
    }
   ],
   "source": [
    "x.lstrip()"
   ]
  },
  {
   "cell_type": "code",
   "execution_count": 334,
   "metadata": {
    "collapsed": false
   },
   "outputs": [
    {
     "data": {
      "text/plain": [
       "'   dsfd sdf sdf'"
      ]
     },
     "execution_count": 334,
     "metadata": {},
     "output_type": "execute_result"
    }
   ],
   "source": [
    "x.rstrip()"
   ]
  },
  {
   "cell_type": "code",
   "execution_count": 335,
   "metadata": {
    "collapsed": true
   },
   "outputs": [],
   "source": [
    "import string"
   ]
  },
  {
   "cell_type": "code",
   "execution_count": 336,
   "metadata": {
    "collapsed": false
   },
   "outputs": [
    {
     "data": {
      "text/plain": [
       "'0123456789'"
      ]
     },
     "execution_count": 336,
     "metadata": {},
     "output_type": "execute_result"
    }
   ],
   "source": [
    "string.digits"
   ]
  }
 ],
 "metadata": {
  "kernelspec": {
   "display_name": "Python 2",
   "language": "python",
   "name": "python2"
  },
  "language_info": {
   "codemirror_mode": {
    "name": "ipython",
    "version": 2
   },
   "file_extension": ".py",
   "mimetype": "text/x-python",
   "name": "python",
   "nbconvert_exporter": "python",
   "pygments_lexer": "ipython2",
   "version": "2.7.12"
  }
 },
 "nbformat": 4,
 "nbformat_minor": 0
}
